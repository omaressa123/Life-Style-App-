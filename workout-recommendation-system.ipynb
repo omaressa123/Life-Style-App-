{
 "cells": [
  {
   "cell_type": "markdown",
   "id": "80c1881b",
   "metadata": {
    "papermill": {
     "duration": 0.010943,
     "end_time": "2025-10-11T14:41:51.846387",
     "exception": false,
     "start_time": "2025-10-11T14:41:51.835444",
     "status": "completed"
    },
    "tags": []
   },
   "source": [
    "<div style=\"font-family:'Poppins',sans-serif; background-color:#121212; color:#FFFFFF; padding:30px; border-radius:20px; line-height:1.6;\">\n",
    "\n",
    "  <h1 style=\"color:#1DB954; text-align:center;\">🎯 Goal</h1>\n",
    "  <p style=\"font-size:18px; text-align:center;\">\n",
    "    Recommend the <b>best exercises/workouts</b> for each user based on their <b>fitness level</b>, <b>target muscle</b>, and <b>personal goals</b>.\n",
    "  </p>\n",
    "\n",
    "  <div style=\"background-color:#1E1E1E; padding:20px; border-radius:15px; margin-top:25px;\">\n",
    "    <h2 style=\"color:#1DB954;\">🔹 Input Features</h2>\n",
    "    <ul style=\"font-size:16px;\">\n",
    "      <li><b>🏋️‍♂️ Experience_Level:</b> Beginner · Intermediate · Advanced</li>\n",
    "      <li><b>💪 Target Muscle Group:</b> Chest · Legs · Back · Core · Full Body</li>\n",
    "      <li><b>⚙️ Difficulty Level:</b> Easy · Medium · Hard</li>\n",
    "      <li><b>🦵 Body Part:</b> Upper · Lower · Core · Full</li>\n",
    "      <li><b>📅 Workout_Frequency (days/week):</b> Number of workout days per week</li>\n",
    "      <li><b>🔥 Calories_Burned:</b> Estimated calorie expenditure per session</li>\n",
    "    </ul>\n",
    "  </div>\n",
    "\n",
    "  <div style=\"background-color:#222222; padding:20px; border-radius:15px; margin-top:25px;\">\n",
    "    <h2 style=\"color:#F5B700;\">🔸 Output</h2>\n",
    "    <p style=\"font-size:16px;\">The model generates a <b>personalized list of recommended workouts</b> containing:</p>\n",
    "    <ul style=\"font-size:16px;\">\n",
    "      <li>🏋️ <b>Name of Exercise</b></li>\n",
    "      <li>💡 <b>Benefit</b> (e.g., Strength · Endurance · Flexibility)</li>\n",
    "      <li>🧰 <b>Equipment Needed</b> (e.g., Dumbbells · Resistance Bands · Bodyweight)</li>\n",
    "      <li>🔥 <b>Expected Burn (Calories)</b></li>\n",
    "    </ul>\n",
    "  </div>\n",
    "\n",
    "  <div style=\"background-color:#1A3C34; padding:20px; border-radius:15px; margin-top:25px;\">\n",
    "    <h2 style=\"color:#1DB954;\">💬 Example Output</h2>\n",
    "    <table style=\"width:100%; border-collapse:collapse; font-size:15px;\">\n",
    "      <thead>\n",
    "        <tr style=\"background-color:#1DB954; color:#121212;\">\n",
    "          <th style=\"padding:10px; text-align:left;\">Exercise</th>\n",
    "          <th style=\"padding:10px; text-align:left;\">Benefit</th>\n",
    "          <th style=\"padding:10px; text-align:left;\">Equipment</th>\n",
    "          <th style=\"padding:10px; text-align:left;\">Expected Burn</th>\n",
    "        </tr>\n",
    "      </thead>\n",
    "      <tbody>\n",
    "        <tr style=\"background-color:#2C2C2C;\">\n",
    "          <td style=\"padding:10px;\">Push-ups</td>\n",
    "          <td style=\"padding:10px;\">Upper body strength, endurance</td>\n",
    "          <td style=\"padding:10px;\">Bodyweight</td>\n",
    "          <td style=\"padding:10px;\">~200 kcal/session</td>\n",
    "        </tr>\n",
    "        <tr style=\"background-color:#333333;\">\n",
    "          <td style=\"padding:10px;\">Squats</td>\n",
    "          <td style=\"padding:10px;\">Leg and core strength</td>\n",
    "          <td style=\"padding:10px;\">Bodyweight or Barbell</td>\n",
    "          <td style=\"padding:10px;\">~250 kcal/session</td>\n",
    "        </tr>\n",
    "        <tr style=\"background-color:#2C2C2C;\">\n",
    "          <td style=\"padding:10px;\">HIIT Circuit</td>\n",
    "          <td style=\"padding:10px;\">Full-body endurance & calorie burn</td>\n",
    "          <td style=\"padding:10px;\">None</td>\n",
    "          <td style=\"padding:10px;\">~400 kcal/session</td>\n",
    "        </tr>\n",
    "      </tbody>\n",
    "    </table>\n",
    "  </div>\n",
    "\n",
    "</div>\n"
   ]
  },
  {
   "cell_type": "code",
   "execution_count": 1,
   "id": "253577f6",
   "metadata": {
    "_cell_guid": "b1076dfc-b9ad-4769-8c92-a6c4dae69d19",
    "_uuid": "8f2839f25d086af736a60e9eeb907d3b93b6e0e5",
    "execution": {
     "iopub.execute_input": "2025-10-11T14:41:51.867465Z",
     "iopub.status.busy": "2025-10-11T14:41:51.866645Z",
     "iopub.status.idle": "2025-10-11T14:41:56.910347Z",
     "shell.execute_reply": "2025-10-11T14:41:56.909317Z"
    },
    "papermill": {
     "duration": 5.056085,
     "end_time": "2025-10-11T14:41:56.912162",
     "exception": false,
     "start_time": "2025-10-11T14:41:51.856077",
     "status": "completed"
    },
    "tags": []
   },
   "outputs": [
    {
     "name": "stdout",
     "output_type": "stream",
     "text": [
      "/kaggle/input/life-style-data/Newdata.csv\n",
      "/kaggle/input/life-style-data/Final_data.csv\n",
      "/kaggle/input/life-style-data/expanded_fitness_data.csv\n",
      "Done\n"
     ]
    }
   ],
   "source": [
    "# Data Handling\n",
    "import os\n",
    "import numpy as np # linear algebra\n",
    "import pandas as pd # data processing\n",
    "import warnings\n",
    "# Data Vasualization\n",
    "import matplotlib.pyplot as plt\n",
    "import seaborn as sns\n",
    "from wordcloud import WordCloud\n",
    "from scipy.stats import boxcox\n",
    "# Machine Learning\n",
    "from sklearn.model_selection import train_test_split\n",
    "from sklearn.preprocessing import LabelEncoder, StandardScaler\n",
    "\n",
    "for dirname, _, filenames in os.walk('/kaggle/input'):\n",
    "    for filename in filenames:\n",
    "        print(os.path.join(dirname, filename))\n",
    "\n",
    "warnings.filterwarnings('ignore')\n",
    "print('Done')"
   ]
  },
  {
   "cell_type": "code",
   "execution_count": 2,
   "id": "b91ec1f1",
   "metadata": {
    "execution": {
     "iopub.execute_input": "2025-10-11T14:41:56.934258Z",
     "iopub.status.busy": "2025-10-11T14:41:56.933730Z",
     "iopub.status.idle": "2025-10-11T14:41:57.293107Z",
     "shell.execute_reply": "2025-10-11T14:41:57.292151Z"
    },
    "papermill": {
     "duration": 0.372182,
     "end_time": "2025-10-11T14:41:57.294726",
     "exception": false,
     "start_time": "2025-10-11T14:41:56.922544",
     "status": "completed"
    },
    "tags": []
   },
   "outputs": [
    {
     "data": {
      "text/plain": [
       "Index(['Age', 'Gender', 'Weight (kg)', 'Height (m)', 'Max_BPM', 'Avg_BPM',\n",
       "       'Resting_BPM', 'Session_Duration (hours)', 'Calories_Burned',\n",
       "       'Workout_Type', 'Fat_Percentage', 'Water_Intake (liters)',\n",
       "       'Workout_Frequency (days/week)', 'Experience_Level', 'BMI',\n",
       "       'Daily meals frequency', 'Physical exercise', 'Carbs', 'Proteins',\n",
       "       'Fats', 'Calories', 'meal_name', 'meal_type', 'diet_type', 'sugar_g',\n",
       "       'sodium_mg', 'cholesterol_mg', 'serving_size_g', 'cooking_method',\n",
       "       'prep_time_min', 'cook_time_min', 'rating', 'Name of Exercise', 'Sets',\n",
       "       'Reps', 'Benefit', 'Burns Calories (per 30 min)', 'Target Muscle Group',\n",
       "       'Equipment Needed', 'Difficulty Level', 'Body Part', 'Type of Muscle',\n",
       "       'Workout', 'BMI_calc', 'cal_from_macros', 'pct_carbs', 'protein_per_kg',\n",
       "       'pct_HRR', 'pct_maxHR', 'cal_balance', 'lean_mass_kg', 'expected_burn',\n",
       "       'Burns Calories (per 30 min)_bc', 'Burns_Calories_Bin'],\n",
       "      dtype='object')"
      ]
     },
     "execution_count": 2,
     "metadata": {},
     "output_type": "execute_result"
    }
   ],
   "source": [
    "# Read Data File\n",
    "df=pd.read_csv('/kaggle/input/life-style-data/Final_data.csv')\n",
    "# Show Columns Name \n",
    "df.columns"
   ]
  },
  {
   "cell_type": "markdown",
   "id": "5562406f",
   "metadata": {
    "papermill": {
     "duration": 0.00969,
     "end_time": "2025-10-11T14:41:57.314292",
     "exception": false,
     "start_time": "2025-10-11T14:41:57.304602",
     "status": "completed"
    },
    "tags": []
   },
   "source": [
    "## Select Features "
   ]
  },
  {
   "cell_type": "code",
   "execution_count": 3,
   "id": "8e9b0289",
   "metadata": {
    "execution": {
     "iopub.execute_input": "2025-10-11T14:41:57.335108Z",
     "iopub.status.busy": "2025-10-11T14:41:57.334731Z",
     "iopub.status.idle": "2025-10-11T14:41:57.367604Z",
     "shell.execute_reply": "2025-10-11T14:41:57.366585Z"
    },
    "papermill": {
     "duration": 0.045246,
     "end_time": "2025-10-11T14:41:57.369308",
     "exception": false,
     "start_time": "2025-10-11T14:41:57.324062",
     "status": "completed"
    },
    "tags": []
   },
   "outputs": [],
   "source": [
    "workout_df = df[[\n",
    "    'Age', 'Gender', 'Weight (kg)', 'Height (m)', 'BMI', \n",
    "    'Experience_Level', 'Workout_Type', 'Workout_Frequency (days/week)',\n",
    "    'Target Muscle Group', 'Difficulty Level', 'Body Part',\n",
    "    'Equipment Needed', 'Benefit', 'Name of Exercise',\n",
    "    'Calories_Burned', 'Burns Calories (per 30 min)', 'expected_burn'\n",
    "]].dropna().reset_index(drop=True)\n",
    "\n",
    "# Save originals\n",
    "workout_df['Target Muscle Group_orig'] = workout_df['Target Muscle Group']\n",
    "workout_df['Difficulty Level_orig'] = workout_df['Difficulty Level']\n"
   ]
  },
  {
   "cell_type": "code",
   "execution_count": 4,
   "id": "684c3822",
   "metadata": {
    "execution": {
     "iopub.execute_input": "2025-10-11T14:41:57.391009Z",
     "iopub.status.busy": "2025-10-11T14:41:57.390105Z",
     "iopub.status.idle": "2025-10-11T14:41:57.395545Z",
     "shell.execute_reply": "2025-10-11T14:41:57.394480Z"
    },
    "papermill": {
     "duration": 0.017934,
     "end_time": "2025-10-11T14:41:57.397108",
     "exception": false,
     "start_time": "2025-10-11T14:41:57.379174",
     "status": "completed"
    },
    "tags": []
   },
   "outputs": [
    {
     "name": "stdout",
     "output_type": "stream",
     "text": [
      "Index(['Age', 'Gender', 'Weight (kg)', 'Height (m)', 'BMI', 'Experience_Level',\n",
      "       'Workout_Type', 'Workout_Frequency (days/week)', 'Target Muscle Group',\n",
      "       'Difficulty Level', 'Body Part', 'Equipment Needed', 'Benefit',\n",
      "       'Name of Exercise', 'Calories_Burned', 'Burns Calories (per 30 min)',\n",
      "       'expected_burn', 'Target Muscle Group_orig', 'Difficulty Level_orig'],\n",
      "      dtype='object')\n"
     ]
    }
   ],
   "source": [
    "print(workout_df.columns)\n"
   ]
  },
  {
   "cell_type": "markdown",
   "id": "c6cb5529",
   "metadata": {
    "papermill": {
     "duration": 0.009557,
     "end_time": "2025-10-11T14:41:57.416635",
     "exception": false,
     "start_time": "2025-10-11T14:41:57.407078",
     "status": "completed"
    },
    "tags": []
   },
   "source": [
    "## Preprocess Data"
   ]
  },
  {
   "cell_type": "code",
   "execution_count": 5,
   "id": "ac11dfe5",
   "metadata": {
    "execution": {
     "iopub.execute_input": "2025-10-11T14:41:57.437399Z",
     "iopub.status.busy": "2025-10-11T14:41:57.437066Z",
     "iopub.status.idle": "2025-10-11T14:41:57.516720Z",
     "shell.execute_reply": "2025-10-11T14:41:57.515861Z"
    },
    "papermill": {
     "duration": 0.092106,
     "end_time": "2025-10-11T14:41:57.518554",
     "exception": false,
     "start_time": "2025-10-11T14:41:57.426448",
     "status": "completed"
    },
    "tags": []
   },
   "outputs": [],
   "source": [
    "label_cols = ['Gender', 'Workout_Type', 'Experience_Level',\n",
    "              'Target Muscle Group', 'Difficulty Level',\n",
    "              'Body Part', 'Equipment Needed']\n",
    "\n",
    "le = LabelEncoder()\n",
    "for col in label_cols:\n",
    "    workout_df[col] = le.fit_transform(workout_df[col].astype(str))\n",
    "\n",
    "num_cols = ['Age', 'Weight (kg)', 'Height (m)', 'BMI', 'Calories_Burned', 'Burns Calories (per 30 min)', 'expected_burn']\n",
    "\n",
    "scaler = StandardScaler()\n",
    "workout_df[num_cols] = scaler.fit_transform(workout_df[num_cols])\n"
   ]
  },
  {
   "cell_type": "markdown",
   "id": "2e72595c",
   "metadata": {
    "papermill": {
     "duration": 0.009872,
     "end_time": "2025-10-11T14:41:57.538478",
     "exception": false,
     "start_time": "2025-10-11T14:41:57.528606",
     "status": "completed"
    },
    "tags": []
   },
   "source": [
    "## Create a Feature Matrix"
   ]
  },
  {
   "cell_type": "code",
   "execution_count": 6,
   "id": "9905e7b6",
   "metadata": {
    "execution": {
     "iopub.execute_input": "2025-10-11T14:41:57.560562Z",
     "iopub.status.busy": "2025-10-11T14:41:57.560241Z",
     "iopub.status.idle": "2025-10-11T14:41:57.567893Z",
     "shell.execute_reply": "2025-10-11T14:41:57.566650Z"
    },
    "papermill": {
     "duration": 0.019976,
     "end_time": "2025-10-11T14:41:57.569477",
     "exception": false,
     "start_time": "2025-10-11T14:41:57.549501",
     "status": "completed"
    },
    "tags": []
   },
   "outputs": [],
   "source": [
    "feature_col = label_cols + num_cols\n",
    "features = workout_df[feature_col]"
   ]
  },
  {
   "cell_type": "code",
   "execution_count": 7,
   "id": "bf2bd290",
   "metadata": {
    "execution": {
     "iopub.execute_input": "2025-10-11T14:41:57.590466Z",
     "iopub.status.busy": "2025-10-11T14:41:57.590118Z",
     "iopub.status.idle": "2025-10-11T14:42:01.358060Z",
     "shell.execute_reply": "2025-10-11T14:42:01.356979Z"
    },
    "papermill": {
     "duration": 3.780285,
     "end_time": "2025-10-11T14:42:01.359872",
     "exception": false,
     "start_time": "2025-10-11T14:41:57.579587",
     "status": "completed"
    },
    "tags": []
   },
   "outputs": [],
   "source": [
    "from sklearn.metrics.pairwise import cosine_similarity\n",
    "similarity_matrix = cosine_similarity(features)"
   ]
  },
  {
   "cell_type": "markdown",
   "id": "51525e93",
   "metadata": {
    "papermill": {
     "duration": 0.009615,
     "end_time": "2025-10-11T14:42:01.380086",
     "exception": false,
     "start_time": "2025-10-11T14:42:01.370471",
     "status": "completed"
    },
    "tags": []
   },
   "source": [
    "## Recommender Function"
   ]
  },
  {
   "cell_type": "code",
   "execution_count": 8,
   "id": "23ba16fc",
   "metadata": {
    "execution": {
     "iopub.execute_input": "2025-10-11T14:42:01.401023Z",
     "iopub.status.busy": "2025-10-11T14:42:01.400669Z",
     "iopub.status.idle": "2025-10-11T14:42:01.407281Z",
     "shell.execute_reply": "2025-10-11T14:42:01.406103Z"
    },
    "papermill": {
     "duration": 0.019332,
     "end_time": "2025-10-11T14:42:01.409078",
     "exception": false,
     "start_time": "2025-10-11T14:42:01.389746",
     "status": "completed"
    },
    "tags": []
   },
   "outputs": [],
   "source": [
    "def recommend_workout(exercise_name,top_number = 6):\n",
    "    if exercise_name not in workout_df['Name of Exercise'].values:\n",
    "        return f\"'{exercise_name}'not found in Data\"\n",
    "\n",
    "    idx =workout_df[workout_df['Name of Exercise'] == exercise_name].index[0]\n",
    "    similarity_scores = list(enumerate(similarity_matrix[idx]))\n",
    "    similarity_scores = sorted(similarity_scores,key =lambda x: x[1],reverse=True)\n",
    "    top_indices = [i[0] for i in similarity_scores[1:top_number+1]]\n",
    "\n",
    "    return workout_df[['Name of Exercise', 'Benefit', 'Target Muscle Group',\n",
    "                       'Target Muscle Group_orig','Difficulty Level_orig','Difficulty Level', 'Calories_Burned']].iloc[top_indices]\n"
   ]
  },
  {
   "cell_type": "markdown",
   "id": "112a1557",
   "metadata": {
    "papermill": {
     "duration": 0.009595,
     "end_time": "2025-10-11T14:42:01.428623",
     "exception": false,
     "start_time": "2025-10-11T14:42:01.419028",
     "status": "completed"
    },
    "tags": []
   },
   "source": [
    "## Call Function"
   ]
  },
  {
   "cell_type": "code",
   "execution_count": 9,
   "id": "559f5810",
   "metadata": {
    "execution": {
     "iopub.execute_input": "2025-10-11T14:42:01.450341Z",
     "iopub.status.busy": "2025-10-11T14:42:01.449552Z",
     "iopub.status.idle": "2025-10-11T14:42:01.487542Z",
     "shell.execute_reply": "2025-10-11T14:42:01.486359Z"
    },
    "papermill": {
     "duration": 0.0507,
     "end_time": "2025-10-11T14:42:01.489424",
     "exception": false,
     "start_time": "2025-10-11T14:42:01.438724",
     "status": "completed"
    },
    "tags": []
   },
   "outputs": [
    {
     "name": "stdout",
     "output_type": "stream",
     "text": [
      "          Name of Exercise                                Benefit  \\\n",
      "497       Incline Push-ups                 Strengthens lower body   \n",
      "16141  Plyometric Push-ups  Strengthens back and improves posture   \n",
      "9727            Leg Raises                  Strengthens lower abs   \n",
      "13292             Deadlift            Targets biceps and forearms   \n",
      "3570   Plyometric Push-ups         Builds unilateral leg strength   \n",
      "8951      Bicycle Crunches        Improves core rotation strength   \n",
      "\n",
      "       Target Muscle Group Target Muscle Group_orig Difficulty Level_orig  \\\n",
      "497                      9           Core, Obliques          Intermediate   \n",
      "16141                    8         Core, Lower Back          Intermediate   \n",
      "9727                     7                     Core          Intermediate   \n",
      "13292                   10    Core, Shoulders, Hips          Intermediate   \n",
      "3570                    10    Core, Shoulders, Hips              Beginner   \n",
      "8951                     9           Core, Obliques          Intermediate   \n",
      "\n",
      "       Difficulty Level  Calories_Burned  \n",
      "497                   2        -1.813660  \n",
      "16141                 2        -1.366163  \n",
      "9727                  2        -1.460147  \n",
      "13292                 2        -1.129612  \n",
      "3570                  1        -1.301589  \n",
      "8951                  2        -1.009942  \n"
     ]
    }
   ],
   "source": [
    "recommendations = recommend_workout(\"Push Ups\", top_number=6)\n",
    "print(recommendations)"
   ]
  },
  {
   "cell_type": "markdown",
   "id": "6faed64c",
   "metadata": {
    "papermill": {
     "duration": 0.009762,
     "end_time": "2025-10-11T14:42:01.509161",
     "exception": false,
     "start_time": "2025-10-11T14:42:01.499399",
     "status": "completed"
    },
    "tags": []
   },
   "source": [
    "## Add Filters"
   ]
  },
  {
   "cell_type": "code",
   "execution_count": 10,
   "id": "871250d0",
   "metadata": {
    "execution": {
     "iopub.execute_input": "2025-10-11T14:42:01.530089Z",
     "iopub.status.busy": "2025-10-11T14:42:01.529718Z",
     "iopub.status.idle": "2025-10-11T14:42:01.535724Z",
     "shell.execute_reply": "2025-10-11T14:42:01.534931Z"
    },
    "papermill": {
     "duration": 0.018761,
     "end_time": "2025-10-11T14:42:01.537739",
     "exception": false,
     "start_time": "2025-10-11T14:42:01.518978",
     "status": "completed"
    },
    "tags": []
   },
   "outputs": [],
   "source": [
    "def filtered_recommendations(exercise_name, difficulty=None, target=None):\n",
    "    recs = recommend_workout(exercise_name, top_number=10)\n",
    "    \n",
    "    if isinstance(recs, str):\n",
    "        return recs\n",
    "    \n",
    "    if difficulty:\n",
    "        recs = recs[recs['Difficulty Level_orig'].str.lower() == difficulty.lower()]\n",
    "    if target:\n",
    "        recs = recs[recs['Target Muscle Group_orig'].str.lower() == target.lower()]\n",
    "    \n",
    "    return recs.head(5)\n"
   ]
  },
  {
   "cell_type": "code",
   "execution_count": 11,
   "id": "7e8bafcd",
   "metadata": {
    "execution": {
     "iopub.execute_input": "2025-10-11T14:42:01.560829Z",
     "iopub.status.busy": "2025-10-11T14:42:01.560508Z",
     "iopub.status.idle": "2025-10-11T14:42:01.605162Z",
     "shell.execute_reply": "2025-10-11T14:42:01.604069Z"
    },
    "papermill": {
     "duration": 0.058668,
     "end_time": "2025-10-11T14:42:01.606662",
     "exception": false,
     "start_time": "2025-10-11T14:42:01.547994",
     "status": "completed"
    },
    "tags": []
   },
   "outputs": [
    {
     "data": {
      "text/html": [
       "<div>\n",
       "<style scoped>\n",
       "    .dataframe tbody tr th:only-of-type {\n",
       "        vertical-align: middle;\n",
       "    }\n",
       "\n",
       "    .dataframe tbody tr th {\n",
       "        vertical-align: top;\n",
       "    }\n",
       "\n",
       "    .dataframe thead th {\n",
       "        text-align: right;\n",
       "    }\n",
       "</style>\n",
       "<table border=\"1\" class=\"dataframe\">\n",
       "  <thead>\n",
       "    <tr style=\"text-align: right;\">\n",
       "      <th></th>\n",
       "      <th>Name of Exercise</th>\n",
       "      <th>Benefit</th>\n",
       "      <th>Target Muscle Group</th>\n",
       "      <th>Target Muscle Group_orig</th>\n",
       "      <th>Difficulty Level_orig</th>\n",
       "      <th>Difficulty Level</th>\n",
       "      <th>Calories_Burned</th>\n",
       "    </tr>\n",
       "  </thead>\n",
       "  <tbody>\n",
       "  </tbody>\n",
       "</table>\n",
       "</div>"
      ],
      "text/plain": [
       "Empty DataFrame\n",
       "Columns: [Name of Exercise, Benefit, Target Muscle Group, Target Muscle Group_orig, Difficulty Level_orig, Difficulty Level, Calories_Burned]\n",
       "Index: []"
      ]
     },
     "execution_count": 11,
     "metadata": {},
     "output_type": "execute_result"
    }
   ],
   "source": [
    "filtered_recommendations(\"Push Ups\", difficulty=\"Beginner\", target=\"Shoulders\")\n"
   ]
  },
  {
   "cell_type": "code",
   "execution_count": 12,
   "id": "f911ac37",
   "metadata": {
    "execution": {
     "iopub.execute_input": "2025-10-11T14:42:01.628165Z",
     "iopub.status.busy": "2025-10-11T14:42:01.627740Z",
     "iopub.status.idle": "2025-10-11T14:42:02.095486Z",
     "shell.execute_reply": "2025-10-11T14:42:02.094472Z"
    },
    "papermill": {
     "duration": 0.480336,
     "end_time": "2025-10-11T14:42:02.097252",
     "exception": false,
     "start_time": "2025-10-11T14:42:01.616916",
     "status": "completed"
    },
    "tags": []
   },
   "outputs": [
    {
     "data": {
      "image/png": "[encoded data removed]",
      "text/plain": [
       "<Figure size 640x480 with 2 Axes>"
      ]
     },
     "metadata": {},
     "output_type": "display_data"
    }
   ],
   "source": [
    "sns.heatmap(similarity_matrix[:20, :20], cmap='YlGnBu')\n",
    "plt.title(\"Workout Similarity (Sample of 20)\")\n",
    "plt.show()\n"
   ]
  },
  {
   "cell_type": "markdown",
   "id": "88a7a8df",
   "metadata": {
    "papermill": {
     "duration": 0.01059,
     "end_time": "2025-10-11T14:42:02.119084",
     "exception": false,
     "start_time": "2025-10-11T14:42:02.108494",
     "status": "completed"
    },
    "tags": []
   },
   "source": [
    "## Verify target muscle of each exercise"
   ]
  },
  {
   "cell_type": "code",
   "execution_count": 13,
   "id": "2ccf4631",
   "metadata": {
    "execution": {
     "iopub.execute_input": "2025-10-11T14:42:02.142857Z",
     "iopub.status.busy": "2025-10-11T14:42:02.142492Z",
     "iopub.status.idle": "2025-10-11T14:42:02.168052Z",
     "shell.execute_reply": "2025-10-11T14:42:02.166970Z"
    },
    "papermill": {
     "duration": 0.039598,
     "end_time": "2025-10-11T14:42:02.170090",
     "exception": false,
     "start_time": "2025-10-11T14:42:02.130492",
     "status": "completed"
    },
    "tags": []
   },
   "outputs": [
    {
     "data": {
      "text/html": [
       "<div>\n",
       "<style scoped>\n",
       "    .dataframe tbody tr th:only-of-type {\n",
       "        vertical-align: middle;\n",
       "    }\n",
       "\n",
       "    .dataframe tbody tr th {\n",
       "        vertical-align: top;\n",
       "    }\n",
       "\n",
       "    .dataframe thead th {\n",
       "        text-align: right;\n",
       "    }\n",
       "</style>\n",
       "<table border=\"1\" class=\"dataframe\">\n",
       "  <thead>\n",
       "    <tr style=\"text-align: right;\">\n",
       "      <th></th>\n",
       "      <th>Name of Exercise</th>\n",
       "      <th>Target Muscle Group</th>\n",
       "      <th>Difficulty Level</th>\n",
       "    </tr>\n",
       "  </thead>\n",
       "  <tbody>\n",
       "    <tr>\n",
       "      <th>0</th>\n",
       "      <td>Decline Push-ups</td>\n",
       "      <td>Shoulders, Triceps</td>\n",
       "      <td>Advanced</td>\n",
       "    </tr>\n",
       "    <tr>\n",
       "      <th>20</th>\n",
       "      <td>Decline Push-ups</td>\n",
       "      <td>Shoulders, Upper Back</td>\n",
       "      <td>Beginner</td>\n",
       "    </tr>\n",
       "    <tr>\n",
       "      <th>38</th>\n",
       "      <td>Plyometric Push-ups</td>\n",
       "      <td>Lower Abs</td>\n",
       "      <td>Intermediate</td>\n",
       "    </tr>\n",
       "    <tr>\n",
       "      <th>40</th>\n",
       "      <td>Push Ups</td>\n",
       "      <td>Core, Obliques</td>\n",
       "      <td>Intermediate</td>\n",
       "    </tr>\n",
       "    <tr>\n",
       "      <th>61</th>\n",
       "      <td>Decline Push-ups</td>\n",
       "      <td>Upper Chest, Triceps</td>\n",
       "      <td>Advanced</td>\n",
       "    </tr>\n",
       "    <tr>\n",
       "      <th>...</th>\n",
       "      <td>...</td>\n",
       "      <td>...</td>\n",
       "      <td>...</td>\n",
       "    </tr>\n",
       "    <tr>\n",
       "      <th>19947</th>\n",
       "      <td>Push-ups</td>\n",
       "      <td>Legs, Core</td>\n",
       "      <td>Intermediate</td>\n",
       "    </tr>\n",
       "    <tr>\n",
       "      <th>19954</th>\n",
       "      <td>Plyometric Push-ups</td>\n",
       "      <td>Core, Obliques</td>\n",
       "      <td>Beginner</td>\n",
       "    </tr>\n",
       "    <tr>\n",
       "      <th>19974</th>\n",
       "      <td>Incline Push-ups</td>\n",
       "      <td>Shoulders, Triceps</td>\n",
       "      <td>Beginner</td>\n",
       "    </tr>\n",
       "    <tr>\n",
       "      <th>19977</th>\n",
       "      <td>Plyometric Push-ups</td>\n",
       "      <td>Legs, Shoulders, Core</td>\n",
       "      <td>Advanced</td>\n",
       "    </tr>\n",
       "    <tr>\n",
       "      <th>19986</th>\n",
       "      <td>Incline Push-ups</td>\n",
       "      <td>Full Body</td>\n",
       "      <td>Beginner</td>\n",
       "    </tr>\n",
       "  </tbody>\n",
       "</table>\n",
       "<p>1807 rows × 3 columns</p>\n",
       "</div>"
      ],
      "text/plain": [
       "          Name of Exercise    Target Muscle Group Difficulty Level\n",
       "0         Decline Push-ups     Shoulders, Triceps         Advanced\n",
       "20        Decline Push-ups  Shoulders, Upper Back         Beginner\n",
       "38     Plyometric Push-ups              Lower Abs     Intermediate\n",
       "40                Push Ups         Core, Obliques     Intermediate\n",
       "61        Decline Push-ups   Upper Chest, Triceps         Advanced\n",
       "...                    ...                    ...              ...\n",
       "19947             Push-ups             Legs, Core     Intermediate\n",
       "19954  Plyometric Push-ups         Core, Obliques         Beginner\n",
       "19974     Incline Push-ups     Shoulders, Triceps         Beginner\n",
       "19977  Plyometric Push-ups  Legs, Shoulders, Core         Advanced\n",
       "19986     Incline Push-ups              Full Body         Beginner\n",
       "\n",
       "[1807 rows x 3 columns]"
      ]
     },
     "execution_count": 13,
     "metadata": {},
     "output_type": "execute_result"
    }
   ],
   "source": [
    "df[df[\"Name of Exercise\"].str.contains(\"Push\", case=False)][\n",
    "    [\"Name of Exercise\", \"Target Muscle Group\", \"Difficulty Level\"]\n",
    "]\n"
   ]
  },
  {
   "cell_type": "code",
   "execution_count": 14,
   "id": "28e0403b",
   "metadata": {
    "execution": {
     "iopub.execute_input": "2025-10-11T14:42:02.193897Z",
     "iopub.status.busy": "2025-10-11T14:42:02.193506Z",
     "iopub.status.idle": "2025-10-11T14:42:02.213273Z",
     "shell.execute_reply": "2025-10-11T14:42:02.212136Z"
    },
    "papermill": {
     "duration": 0.033621,
     "end_time": "2025-10-11T14:42:02.214992",
     "exception": false,
     "start_time": "2025-10-11T14:42:02.181371",
     "status": "completed"
    },
    "tags": []
   },
   "outputs": [],
   "source": [
    "def normalize_exercise_name(name):\n",
    "    name = name.lower()\n",
    "    if \"push\" in name:\n",
    "        return \"Push Ups\"\n",
    "    elif \"squat\" in name:\n",
    "        return \"Squats\"\n",
    "    elif \"crunch\" in name:\n",
    "        return \"Crunches\"\n",
    "    elif \"plank\" in name:\n",
    "        return \"Plank\"\n",
    "    elif \"deadlift\" in name:\n",
    "        return \"Deadlift\"\n",
    "    elif \"curl\" in name:\n",
    "        return \"Bicep Curl\"\n",
    "    elif \"press\" in name:\n",
    "        return \"Press\"\n",
    "    else:\n",
    "        return name.title()\n",
    "\n",
    "df[\"Exercise_Base\"] = df[\"Name of Exercise\"].apply(normalize_exercise_name)\n"
   ]
  },
  {
   "cell_type": "markdown",
   "id": "ae5dfe93",
   "metadata": {
    "papermill": {
     "duration": 0.010791,
     "end_time": "2025-10-11T14:42:02.236978",
     "exception": false,
     "start_time": "2025-10-11T14:42:02.226187",
     "status": "completed"
    },
    "tags": []
   },
   "source": [
    "## Create a consistent target muscle map"
   ]
  },
  {
   "cell_type": "code",
   "execution_count": 15,
   "id": "846d8c27",
   "metadata": {
    "execution": {
     "iopub.execute_input": "2025-10-11T14:42:02.261006Z",
     "iopub.status.busy": "2025-10-11T14:42:02.259934Z",
     "iopub.status.idle": "2025-10-11T14:42:02.269480Z",
     "shell.execute_reply": "2025-10-11T14:42:02.268475Z"
    },
    "papermill": {
     "duration": 0.023152,
     "end_time": "2025-10-11T14:42:02.271064",
     "exception": false,
     "start_time": "2025-10-11T14:42:02.247912",
     "status": "completed"
    },
    "tags": []
   },
   "outputs": [],
   "source": [
    "muscle_map = {\n",
    "    \"Push Ups\": \"Chest, Triceps, Shoulders\",\n",
    "    \"Squats\": \"Legs, Glutes\",\n",
    "    \"Crunches\": \"Abs, Core\",\n",
    "    \"Plank\": \"Core\",\n",
    "    \"Deadlift\": \"Back, Legs, Core\",\n",
    "    \"Bicep Curl\": \"Biceps\",\n",
    "    \"Press\": \"Chest, Shoulders, Triceps\"\n",
    "}\n",
    "\n",
    "df[\"Target Muscle Group_Cleaned\"] = df[\"Exercise_Base\"].map(muscle_map)\n"
   ]
  },
  {
   "cell_type": "code",
   "execution_count": 16,
   "id": "afe58e35",
   "metadata": {
    "execution": {
     "iopub.execute_input": "2025-10-11T14:42:02.294655Z",
     "iopub.status.busy": "2025-10-11T14:42:02.294303Z",
     "iopub.status.idle": "2025-10-11T14:42:02.301717Z",
     "shell.execute_reply": "2025-10-11T14:42:02.300699Z"
    },
    "papermill": {
     "duration": 0.021272,
     "end_time": "2025-10-11T14:42:02.303422",
     "exception": false,
     "start_time": "2025-10-11T14:42:02.282150",
     "status": "completed"
    },
    "tags": []
   },
   "outputs": [],
   "source": [
    "df[\"Target Muscle Group_Cleaned\"].fillna(df[\"Target Muscle Group\"], inplace=True)\n"
   ]
  },
  {
   "cell_type": "markdown",
   "id": "fa09600b",
   "metadata": {
    "papermill": {
     "duration": 0.011197,
     "end_time": "2025-10-11T14:42:02.326349",
     "exception": false,
     "start_time": "2025-10-11T14:42:02.315152",
     "status": "completed"
    },
    "tags": []
   },
   "source": [
    "## Fix difficulty inconsistencies"
   ]
  },
  {
   "cell_type": "code",
   "execution_count": 17,
   "id": "4d4e19c1",
   "metadata": {
    "execution": {
     "iopub.execute_input": "2025-10-11T14:42:02.350931Z",
     "iopub.status.busy": "2025-10-11T14:42:02.350562Z",
     "iopub.status.idle": "2025-10-11T14:42:02.384628Z",
     "shell.execute_reply": "2025-10-11T14:42:02.383265Z"
    },
    "papermill": {
     "duration": 0.048762,
     "end_time": "2025-10-11T14:42:02.386499",
     "exception": false,
     "start_time": "2025-10-11T14:42:02.337737",
     "status": "completed"
    },
    "tags": []
   },
   "outputs": [],
   "source": [
    "df[\"Difficulty Level_Cleaned\"] = df.groupby(\"Exercise_Base\")[\"Difficulty Level\"].transform(\n",
    "    lambda x: x.mode().iloc[0] if not x.mode().empty else \"Intermediate\"\n",
    ")\n"
   ]
  },
  {
   "cell_type": "code",
   "execution_count": 18,
   "id": "2778067f",
   "metadata": {
    "execution": {
     "iopub.execute_input": "2025-10-11T14:42:02.410941Z",
     "iopub.status.busy": "2025-10-11T14:42:02.410575Z",
     "iopub.status.idle": "2025-10-11T14:42:02.416906Z",
     "shell.execute_reply": "2025-10-11T14:42:02.416018Z"
    },
    "papermill": {
     "duration": 0.019944,
     "end_time": "2025-10-11T14:42:02.418441",
     "exception": false,
     "start_time": "2025-10-11T14:42:02.398497",
     "status": "completed"
    },
    "tags": []
   },
   "outputs": [],
   "source": [
    "df[\"Target Muscle Group\"] = df[\"Target Muscle Group_Cleaned\"]\n",
    "df[\"Difficulty Level\"] = df[\"Difficulty Level_Cleaned\"]\n"
   ]
  },
  {
   "cell_type": "markdown",
   "id": "9add7525",
   "metadata": {
    "papermill": {
     "duration": 0.0106,
     "end_time": "2025-10-11T14:42:02.440721",
     "exception": false,
     "start_time": "2025-10-11T14:42:02.430121",
     "status": "completed"
    },
    "tags": []
   },
   "source": [
    "## Test Data"
   ]
  },
  {
   "cell_type": "code",
   "execution_count": 19,
   "id": "e8c43312",
   "metadata": {
    "execution": {
     "iopub.execute_input": "2025-10-11T14:42:02.464461Z",
     "iopub.status.busy": "2025-10-11T14:42:02.464117Z",
     "iopub.status.idle": "2025-10-11T14:42:02.480103Z",
     "shell.execute_reply": "2025-10-11T14:42:02.478844Z"
    },
    "papermill": {
     "duration": 0.029713,
     "end_time": "2025-10-11T14:42:02.481815",
     "exception": false,
     "start_time": "2025-10-11T14:42:02.452102",
     "status": "completed"
    },
    "tags": []
   },
   "outputs": [
    {
     "data": {
      "text/html": [
       "<div>\n",
       "<style scoped>\n",
       "    .dataframe tbody tr th:only-of-type {\n",
       "        vertical-align: middle;\n",
       "    }\n",
       "\n",
       "    .dataframe tbody tr th {\n",
       "        vertical-align: top;\n",
       "    }\n",
       "\n",
       "    .dataframe thead th {\n",
       "        text-align: right;\n",
       "    }\n",
       "</style>\n",
       "<table border=\"1\" class=\"dataframe\">\n",
       "  <thead>\n",
       "    <tr style=\"text-align: right;\">\n",
       "      <th></th>\n",
       "      <th>Name of Exercise</th>\n",
       "      <th>Target Muscle Group</th>\n",
       "      <th>Difficulty Level</th>\n",
       "    </tr>\n",
       "  </thead>\n",
       "  <tbody>\n",
       "    <tr>\n",
       "      <th>0</th>\n",
       "      <td>Decline Push-ups</td>\n",
       "      <td>Chest, Triceps, Shoulders</td>\n",
       "      <td>Advanced</td>\n",
       "    </tr>\n",
       "    <tr>\n",
       "      <th>20</th>\n",
       "      <td>Decline Push-ups</td>\n",
       "      <td>Chest, Triceps, Shoulders</td>\n",
       "      <td>Advanced</td>\n",
       "    </tr>\n",
       "    <tr>\n",
       "      <th>38</th>\n",
       "      <td>Plyometric Push-ups</td>\n",
       "      <td>Chest, Triceps, Shoulders</td>\n",
       "      <td>Advanced</td>\n",
       "    </tr>\n",
       "    <tr>\n",
       "      <th>40</th>\n",
       "      <td>Push Ups</td>\n",
       "      <td>Chest, Triceps, Shoulders</td>\n",
       "      <td>Advanced</td>\n",
       "    </tr>\n",
       "    <tr>\n",
       "      <th>61</th>\n",
       "      <td>Decline Push-ups</td>\n",
       "      <td>Chest, Triceps, Shoulders</td>\n",
       "      <td>Advanced</td>\n",
       "    </tr>\n",
       "    <tr>\n",
       "      <th>...</th>\n",
       "      <td>...</td>\n",
       "      <td>...</td>\n",
       "      <td>...</td>\n",
       "    </tr>\n",
       "    <tr>\n",
       "      <th>19947</th>\n",
       "      <td>Push-ups</td>\n",
       "      <td>Chest, Triceps, Shoulders</td>\n",
       "      <td>Advanced</td>\n",
       "    </tr>\n",
       "    <tr>\n",
       "      <th>19954</th>\n",
       "      <td>Plyometric Push-ups</td>\n",
       "      <td>Chest, Triceps, Shoulders</td>\n",
       "      <td>Advanced</td>\n",
       "    </tr>\n",
       "    <tr>\n",
       "      <th>19974</th>\n",
       "      <td>Incline Push-ups</td>\n",
       "      <td>Chest, Triceps, Shoulders</td>\n",
       "      <td>Advanced</td>\n",
       "    </tr>\n",
       "    <tr>\n",
       "      <th>19977</th>\n",
       "      <td>Plyometric Push-ups</td>\n",
       "      <td>Chest, Triceps, Shoulders</td>\n",
       "      <td>Advanced</td>\n",
       "    </tr>\n",
       "    <tr>\n",
       "      <th>19986</th>\n",
       "      <td>Incline Push-ups</td>\n",
       "      <td>Chest, Triceps, Shoulders</td>\n",
       "      <td>Advanced</td>\n",
       "    </tr>\n",
       "  </tbody>\n",
       "</table>\n",
       "<p>1807 rows × 3 columns</p>\n",
       "</div>"
      ],
      "text/plain": [
       "          Name of Exercise        Target Muscle Group Difficulty Level\n",
       "0         Decline Push-ups  Chest, Triceps, Shoulders         Advanced\n",
       "20        Decline Push-ups  Chest, Triceps, Shoulders         Advanced\n",
       "38     Plyometric Push-ups  Chest, Triceps, Shoulders         Advanced\n",
       "40                Push Ups  Chest, Triceps, Shoulders         Advanced\n",
       "61        Decline Push-ups  Chest, Triceps, Shoulders         Advanced\n",
       "...                    ...                        ...              ...\n",
       "19947             Push-ups  Chest, Triceps, Shoulders         Advanced\n",
       "19954  Plyometric Push-ups  Chest, Triceps, Shoulders         Advanced\n",
       "19974     Incline Push-ups  Chest, Triceps, Shoulders         Advanced\n",
       "19977  Plyometric Push-ups  Chest, Triceps, Shoulders         Advanced\n",
       "19986     Incline Push-ups  Chest, Triceps, Shoulders         Advanced\n",
       "\n",
       "[1807 rows x 3 columns]"
      ]
     },
     "execution_count": 19,
     "metadata": {},
     "output_type": "execute_result"
    }
   ],
   "source": [
    "df[df[\"Exercise_Base\"] == \"Push Ups\"][\n",
    "    [\"Name of Exercise\", \"Target Muscle Group\", \"Difficulty Level\"]\n",
    "]\n"
   ]
  },
  {
   "cell_type": "code",
   "execution_count": 20,
   "id": "f778acfe",
   "metadata": {
    "execution": {
     "iopub.execute_input": "2025-10-11T14:42:02.506047Z",
     "iopub.status.busy": "2025-10-11T14:42:02.505658Z",
     "iopub.status.idle": "2025-10-11T14:42:02.533189Z",
     "shell.execute_reply": "2025-10-11T14:42:02.531735Z"
    },
    "papermill": {
     "duration": 0.041384,
     "end_time": "2025-10-11T14:42:02.534950",
     "exception": false,
     "start_time": "2025-10-11T14:42:02.493566",
     "status": "completed"
    },
    "tags": []
   },
   "outputs": [],
   "source": [
    "df[\"Difficulty Level_Cleaned\"] = df.groupby(\"Exercise_Base\")[\"Difficulty Level\"].transform(\n",
    "    lambda x: x.mode().iloc[0] if not x.mode().empty else \"Intermediate\"\n",
    ")\n"
   ]
  },
  {
   "cell_type": "code",
   "execution_count": 21,
   "id": "36414216",
   "metadata": {
    "execution": {
     "iopub.execute_input": "2025-10-11T14:42:02.559969Z",
     "iopub.status.busy": "2025-10-11T14:42:02.559635Z",
     "iopub.status.idle": "2025-10-11T14:42:02.565559Z",
     "shell.execute_reply": "2025-10-11T14:42:02.564292Z"
    },
    "papermill": {
     "duration": 0.021179,
     "end_time": "2025-10-11T14:42:02.567349",
     "exception": false,
     "start_time": "2025-10-11T14:42:02.546170",
     "status": "completed"
    },
    "tags": []
   },
   "outputs": [],
   "source": [
    "def correct_difficulty(name, original_difficulty):\n",
    "    name_lower = name.lower()\n",
    "\n",
    "    if \"incline\" in name_lower:\n",
    "        return \"Beginner\"\n",
    "    elif \"push ups\" in name_lower or \"push-ups\" in name_lower:\n",
    "        return \"Intermediate\"\n",
    "    elif \"decline\" in name_lower or \"plyometric\" in name_lower:\n",
    "        return \"Advanced\"\n",
    "    else:\n",
    "        return original_difficulty\n"
   ]
  },
  {
   "cell_type": "code",
   "execution_count": 22,
   "id": "4da72a26",
   "metadata": {
    "execution": {
     "iopub.execute_input": "2025-10-11T14:42:02.591526Z",
     "iopub.status.busy": "2025-10-11T14:42:02.591190Z",
     "iopub.status.idle": "2025-10-11T14:42:02.811355Z",
     "shell.execute_reply": "2025-10-11T14:42:02.810361Z"
    },
    "papermill": {
     "duration": 0.234486,
     "end_time": "2025-10-11T14:42:02.813323",
     "exception": false,
     "start_time": "2025-10-11T14:42:02.578837",
     "status": "completed"
    },
    "tags": []
   },
   "outputs": [],
   "source": [
    "df[\"Difficulty Level_Cleaned\"] = df.apply(\n",
    "    lambda row: correct_difficulty(row[\"Name of Exercise\"], row[\"Difficulty Level\"]),\n",
    "    axis=1\n",
    ")\n"
   ]
  },
  {
   "cell_type": "code",
   "execution_count": 23,
   "id": "b3dbc2e1",
   "metadata": {
    "execution": {
     "iopub.execute_input": "2025-10-11T14:42:02.837553Z",
     "iopub.status.busy": "2025-10-11T14:42:02.837240Z",
     "iopub.status.idle": "2025-10-11T14:42:02.851673Z",
     "shell.execute_reply": "2025-10-11T14:42:02.850736Z"
    },
    "papermill": {
     "duration": 0.028463,
     "end_time": "2025-10-11T14:42:02.853473",
     "exception": false,
     "start_time": "2025-10-11T14:42:02.825010",
     "status": "completed"
    },
    "tags": []
   },
   "outputs": [],
   "source": [
    "def correct_muscle(name):\n",
    "    name_lower = name.lower()\n",
    "\n",
    "    if \"push\" in name_lower:\n",
    "        return \"Chest, Triceps, Shoulders\"\n",
    "    elif \"crunch\" in name_lower:\n",
    "        return \"Core, Abs\"\n",
    "    elif \"plank\" in name_lower:\n",
    "        return \"Core\"\n",
    "    elif \"squat\" in name_lower:\n",
    "        return \"Legs, Glutes\"\n",
    "    elif \"deadlift\" in name_lower:\n",
    "        return \"Back, Legs\"\n",
    "    else:\n",
    "        return \"Full Body\"\n",
    "\n",
    "df[\"Target Muscle Group_Cleaned\"] = df[\"Name of Exercise\"].apply(correct_muscle)\n"
   ]
  },
  {
   "cell_type": "code",
   "execution_count": 24,
   "id": "0dc9c376",
   "metadata": {
    "execution": {
     "iopub.execute_input": "2025-10-11T14:42:02.877486Z",
     "iopub.status.busy": "2025-10-11T14:42:02.877135Z",
     "iopub.status.idle": "2025-10-11T14:42:02.901504Z",
     "shell.execute_reply": "2025-10-11T14:42:02.900416Z"
    },
    "papermill": {
     "duration": 0.038394,
     "end_time": "2025-10-11T14:42:02.903280",
     "exception": false,
     "start_time": "2025-10-11T14:42:02.864886",
     "status": "completed"
    },
    "tags": []
   },
   "outputs": [
    {
     "data": {
      "text/html": [
       "<div>\n",
       "<style scoped>\n",
       "    .dataframe tbody tr th:only-of-type {\n",
       "        vertical-align: middle;\n",
       "    }\n",
       "\n",
       "    .dataframe tbody tr th {\n",
       "        vertical-align: top;\n",
       "    }\n",
       "\n",
       "    .dataframe thead th {\n",
       "        text-align: right;\n",
       "    }\n",
       "</style>\n",
       "<table border=\"1\" class=\"dataframe\">\n",
       "  <thead>\n",
       "    <tr style=\"text-align: right;\">\n",
       "      <th></th>\n",
       "      <th>Name of Exercise</th>\n",
       "      <th>Target Muscle Group_Cleaned</th>\n",
       "      <th>Difficulty Level_Cleaned</th>\n",
       "    </tr>\n",
       "  </thead>\n",
       "  <tbody>\n",
       "    <tr>\n",
       "      <th>0</th>\n",
       "      <td>Decline Push-ups</td>\n",
       "      <td>Chest, Triceps, Shoulders</td>\n",
       "      <td>Intermediate</td>\n",
       "    </tr>\n",
       "    <tr>\n",
       "      <th>20</th>\n",
       "      <td>Decline Push-ups</td>\n",
       "      <td>Chest, Triceps, Shoulders</td>\n",
       "      <td>Intermediate</td>\n",
       "    </tr>\n",
       "    <tr>\n",
       "      <th>38</th>\n",
       "      <td>Plyometric Push-ups</td>\n",
       "      <td>Chest, Triceps, Shoulders</td>\n",
       "      <td>Intermediate</td>\n",
       "    </tr>\n",
       "    <tr>\n",
       "      <th>40</th>\n",
       "      <td>Push Ups</td>\n",
       "      <td>Chest, Triceps, Shoulders</td>\n",
       "      <td>Intermediate</td>\n",
       "    </tr>\n",
       "    <tr>\n",
       "      <th>61</th>\n",
       "      <td>Decline Push-ups</td>\n",
       "      <td>Chest, Triceps, Shoulders</td>\n",
       "      <td>Intermediate</td>\n",
       "    </tr>\n",
       "    <tr>\n",
       "      <th>67</th>\n",
       "      <td>Push-ups</td>\n",
       "      <td>Chest, Triceps, Shoulders</td>\n",
       "      <td>Intermediate</td>\n",
       "    </tr>\n",
       "    <tr>\n",
       "      <th>72</th>\n",
       "      <td>Push-ups</td>\n",
       "      <td>Chest, Triceps, Shoulders</td>\n",
       "      <td>Intermediate</td>\n",
       "    </tr>\n",
       "    <tr>\n",
       "      <th>75</th>\n",
       "      <td>Plyometric Push-ups</td>\n",
       "      <td>Chest, Triceps, Shoulders</td>\n",
       "      <td>Intermediate</td>\n",
       "    </tr>\n",
       "    <tr>\n",
       "      <th>80</th>\n",
       "      <td>Plyometric Push-ups</td>\n",
       "      <td>Chest, Triceps, Shoulders</td>\n",
       "      <td>Intermediate</td>\n",
       "    </tr>\n",
       "    <tr>\n",
       "      <th>108</th>\n",
       "      <td>Plyometric Push-ups</td>\n",
       "      <td>Chest, Triceps, Shoulders</td>\n",
       "      <td>Intermediate</td>\n",
       "    </tr>\n",
       "    <tr>\n",
       "      <th>111</th>\n",
       "      <td>Incline Push-ups</td>\n",
       "      <td>Chest, Triceps, Shoulders</td>\n",
       "      <td>Beginner</td>\n",
       "    </tr>\n",
       "    <tr>\n",
       "      <th>115</th>\n",
       "      <td>Decline Push-ups</td>\n",
       "      <td>Chest, Triceps, Shoulders</td>\n",
       "      <td>Intermediate</td>\n",
       "    </tr>\n",
       "    <tr>\n",
       "      <th>136</th>\n",
       "      <td>Push Ups</td>\n",
       "      <td>Chest, Triceps, Shoulders</td>\n",
       "      <td>Intermediate</td>\n",
       "    </tr>\n",
       "    <tr>\n",
       "      <th>166</th>\n",
       "      <td>Push Ups</td>\n",
       "      <td>Chest, Triceps, Shoulders</td>\n",
       "      <td>Intermediate</td>\n",
       "    </tr>\n",
       "    <tr>\n",
       "      <th>173</th>\n",
       "      <td>Plyometric Push-ups</td>\n",
       "      <td>Chest, Triceps, Shoulders</td>\n",
       "      <td>Intermediate</td>\n",
       "    </tr>\n",
       "  </tbody>\n",
       "</table>\n",
       "</div>"
      ],
      "text/plain": [
       "        Name of Exercise Target Muscle Group_Cleaned Difficulty Level_Cleaned\n",
       "0       Decline Push-ups   Chest, Triceps, Shoulders             Intermediate\n",
       "20      Decline Push-ups   Chest, Triceps, Shoulders             Intermediate\n",
       "38   Plyometric Push-ups   Chest, Triceps, Shoulders             Intermediate\n",
       "40              Push Ups   Chest, Triceps, Shoulders             Intermediate\n",
       "61      Decline Push-ups   Chest, Triceps, Shoulders             Intermediate\n",
       "67              Push-ups   Chest, Triceps, Shoulders             Intermediate\n",
       "72              Push-ups   Chest, Triceps, Shoulders             Intermediate\n",
       "75   Plyometric Push-ups   Chest, Triceps, Shoulders             Intermediate\n",
       "80   Plyometric Push-ups   Chest, Triceps, Shoulders             Intermediate\n",
       "108  Plyometric Push-ups   Chest, Triceps, Shoulders             Intermediate\n",
       "111     Incline Push-ups   Chest, Triceps, Shoulders                 Beginner\n",
       "115     Decline Push-ups   Chest, Triceps, Shoulders             Intermediate\n",
       "136             Push Ups   Chest, Triceps, Shoulders             Intermediate\n",
       "166             Push Ups   Chest, Triceps, Shoulders             Intermediate\n",
       "173  Plyometric Push-ups   Chest, Triceps, Shoulders             Intermediate"
      ]
     },
     "execution_count": 24,
     "metadata": {},
     "output_type": "execute_result"
    }
   ],
   "source": [
    "df[df[\"Name of Exercise\"].str.contains(\"push\", case=False)][\n",
    "    [\"Name of Exercise\", \"Target Muscle Group_Cleaned\", \"Difficulty Level_Cleaned\"]\n",
    "].head(15)\n"
   ]
  },
  {
   "cell_type": "code",
   "execution_count": 25,
   "id": "f694ef5d",
   "metadata": {
    "execution": {
     "iopub.execute_input": "2025-10-11T14:42:02.928480Z",
     "iopub.status.busy": "2025-10-11T14:42:02.927342Z",
     "iopub.status.idle": "2025-10-11T14:42:02.937301Z",
     "shell.execute_reply": "2025-10-11T14:42:02.936276Z"
    },
    "papermill": {
     "duration": 0.024297,
     "end_time": "2025-10-11T14:42:02.939203",
     "exception": false,
     "start_time": "2025-10-11T14:42:02.914906",
     "status": "completed"
    },
    "tags": []
   },
   "outputs": [],
   "source": [
    "def clean_exercise_data(df):\n",
    "    \"\"\"Cleans and standardizes exercise information for accurate recommendations.\"\"\"\n",
    "\n",
    "    # Normalize names\n",
    "    df[\"Name of Exercise\"] = df[\"Name of Exercise\"].str.strip().str.title()\n",
    "    df[\"Target Muscle Group\"] = df[\"Target Muscle Group\"].astype(str).str.title()\n",
    "    df[\"Difficulty Level\"] = df[\"Difficulty Level\"].astype(str).str.title()\n",
    "\n",
    "    # Define difficulty correction\n",
    "    def correct_difficulty(name, original):\n",
    "        name = str(name).lower()\n",
    "        if \"incline\" in name:\n",
    "            return \"Beginner\"\n",
    "        elif \"push ups\" in name or \"push-ups\" in name:\n",
    "            return \"Intermediate\"\n",
    "        elif \"decline\" in name or \"plyometric\" in name:\n",
    "            return \"Advanced\"\n",
    "        else:\n",
    "            return original\n",
    "\n",
    "    # Apply correction\n",
    "    df[\"Difficulty Level_Cleaned\"] = df.apply(\n",
    "        lambda r: correct_difficulty(r[\"Name of Exercise\"], r[\"Difficulty Level\"]), axis=1\n",
    "    )\n",
    "\n",
    "    # Define target muscle correction\n",
    "    def correct_muscle(name):\n",
    "        name = str(name).lower()\n",
    "        if \"push\" in name:\n",
    "            return \"Chest, Triceps, Shoulders\"\n",
    "        elif \"crunch\" in name:\n",
    "            return \"Core, Abs\"\n",
    "        elif \"plank\" in name:\n",
    "            return \"Core\"\n",
    "        elif \"squat\" in name:\n",
    "            return \"Legs, Glutes\"\n",
    "        elif \"deadlift\" in name:\n",
    "            return \"Back, Legs\"\n",
    "        elif \"curl\" in name:\n",
    "            return \"Biceps\"\n",
    "        else:\n",
    "            return \"Full Body\"\n",
    "\n",
    "    df[\"Target Muscle Group_Cleaned\"] = df[\"Name of Exercise\"].apply(correct_muscle)\n",
    "\n",
    "    # Return clean DataFrame\n",
    "    return df\n"
   ]
  },
  {
   "cell_type": "code",
   "execution_count": 26,
   "id": "65217fe0",
   "metadata": {
    "execution": {
     "iopub.execute_input": "2025-10-11T14:42:02.963499Z",
     "iopub.status.busy": "2025-10-11T14:42:02.963165Z",
     "iopub.status.idle": "2025-10-11T14:42:03.218488Z",
     "shell.execute_reply": "2025-10-11T14:42:03.217138Z"
    },
    "papermill": {
     "duration": 0.269611,
     "end_time": "2025-10-11T14:42:03.220478",
     "exception": false,
     "start_time": "2025-10-11T14:42:02.950867",
     "status": "completed"
    },
    "tags": []
   },
   "outputs": [],
   "source": [
    "df = clean_exercise_data(df)\n"
   ]
  },
  {
   "cell_type": "markdown",
   "id": "5afb0e01",
   "metadata": {
    "papermill": {
     "duration": 0.01136,
     "end_time": "2025-10-11T14:42:03.243818",
     "exception": false,
     "start_time": "2025-10-11T14:42:03.232458",
     "status": "completed"
    },
    "tags": []
   },
   "source": [
    "## Recommendation System Logic"
   ]
  },
  {
   "cell_type": "code",
   "execution_count": 27,
   "id": "8233aa78",
   "metadata": {
    "execution": {
     "iopub.execute_input": "2025-10-11T14:42:03.268763Z",
     "iopub.status.busy": "2025-10-11T14:42:03.267549Z",
     "iopub.status.idle": "2025-10-11T14:42:03.294972Z",
     "shell.execute_reply": "2025-10-11T14:42:03.293894Z"
    },
    "papermill": {
     "duration": 0.041621,
     "end_time": "2025-10-11T14:42:03.296776",
     "exception": false,
     "start_time": "2025-10-11T14:42:03.255155",
     "status": "completed"
    },
    "tags": []
   },
   "outputs": [],
   "source": [
    "from sklearn.metrics.pairwise import cosine_similarity\n",
    "from sklearn.feature_extraction.text import TfidfVectorizer\n",
    "\n",
    "def recommend_workout(exercise_name, top_number=5):\n",
    "    \"\"\"\n",
    "    Recommends workouts similar to a given exercise based on textual similarity\n",
    "    between exercise names, target muscles, and difficulty.\n",
    "    \"\"\"\n",
    "\n",
    "    # Ensure the input exists\n",
    "    if exercise_name not in df[\"Name of Exercise\"].values:\n",
    "        print(f\"⚠️ '{exercise_name}' not found in dataset.\")\n",
    "        return None\n",
    "\n",
    "    # Combine key features for text-based similarity\n",
    "    df[\"combined_features\"] = (\n",
    "        df[\"Name of Exercise\"].astype(str) + \" \" +\n",
    "        df[\"Target Muscle Group_Cleaned\"].astype(str) + \" \" +\n",
    "        df[\"Difficulty Level_Cleaned\"].astype(str)\n",
    "    )\n",
    "\n",
    "    # Vectorize with TF-IDF\n",
    "    vectorizer = TfidfVectorizer(stop_words=\"english\")\n",
    "    feature_matrix = vectorizer.fit_transform(df[\"combined_features\"])\n",
    "\n",
    "    # Compute cosine similarity\n",
    "    similarity_matrix = cosine_similarity(feature_matrix)\n",
    "\n",
    "    # Locate the selected exercise\n",
    "    idx = df[df[\"Name of Exercise\"] == exercise_name].index[0]\n",
    "    scores = list(enumerate(similarity_matrix[idx]))\n",
    "    scores = sorted(scores, key=lambda x: x[1], reverse=True)\n",
    "\n",
    "    # Get top recommendations\n",
    "    top_indices = [i[0] for i in scores[1: top_number + 1]]\n",
    "\n",
    "    return df.loc[top_indices, [\n",
    "        \"Name of Exercise\", \"Target Muscle Group_Cleaned\", \"Difficulty Level_Cleaned\", \"Calories_Burned\"\n",
    "    ]]\n"
   ]
  },
  {
   "cell_type": "code",
   "execution_count": 28,
   "id": "3c211b85",
   "metadata": {
    "execution": {
     "iopub.execute_input": "2025-10-11T14:42:03.321354Z",
     "iopub.status.busy": "2025-10-11T14:42:03.320997Z",
     "iopub.status.idle": "2025-10-11T14:42:03.327377Z",
     "shell.execute_reply": "2025-10-11T14:42:03.326171Z"
    },
    "papermill": {
     "duration": 0.02075,
     "end_time": "2025-10-11T14:42:03.329186",
     "exception": false,
     "start_time": "2025-10-11T14:42:03.308436",
     "status": "completed"
    },
    "tags": []
   },
   "outputs": [],
   "source": [
    "def filtered_recommendations(exercise_name, difficulty=None, target=None, top_number=5):\n",
    "    recs = recommend_workout(exercise_name, top_number * 2)\n",
    "    if recs is None:\n",
    "        return None\n",
    "\n",
    "    # Optional filters\n",
    "    if difficulty:\n",
    "        recs = recs[recs[\"Difficulty Level_Cleaned\"].str.lower() == difficulty.lower()]\n",
    "    if target:\n",
    "        recs = recs[recs[\"Target Muscle Group_Cleaned\"].str.contains(target, case=False, na=False)]\n",
    "\n",
    "    return recs.head(top_number)\n"
   ]
  },
  {
   "cell_type": "code",
   "execution_count": 29,
   "id": "cc0028a1",
   "metadata": {
    "execution": {
     "iopub.execute_input": "2025-10-11T14:42:03.354111Z",
     "iopub.status.busy": "2025-10-11T14:42:03.353758Z",
     "iopub.status.idle": "2025-10-11T14:42:15.721269Z",
     "shell.execute_reply": "2025-10-11T14:42:15.719912Z"
    },
    "papermill": {
     "duration": 12.382452,
     "end_time": "2025-10-11T14:42:15.723279",
     "exception": false,
     "start_time": "2025-10-11T14:42:03.340827",
     "status": "completed"
    },
    "tags": []
   },
   "outputs": [
    {
     "name": "stdout",
     "output_type": "stream",
     "text": [
      "    Name of Exercise Target Muscle Group_Cleaned Difficulty Level_Cleaned  \\\n",
      "67          Push-Ups   Chest, Triceps, Shoulders             Intermediate   \n",
      "72          Push-Ups   Chest, Triceps, Shoulders             Intermediate   \n",
      "136         Push Ups   Chest, Triceps, Shoulders             Intermediate   \n",
      "166         Push Ups   Chest, Triceps, Shoulders             Intermediate   \n",
      "205         Push Ups   Chest, Triceps, Shoulders             Intermediate   \n",
      "211         Push-Ups   Chest, Triceps, Shoulders             Intermediate   \n",
      "\n",
      "     Calories_Burned  \n",
      "67           1073.69  \n",
      "72            580.80  \n",
      "136          1296.00  \n",
      "166          1317.60  \n",
      "205          2082.60  \n",
      "211           652.81  \n"
     ]
    }
   ],
   "source": [
    "recommendations = filtered_recommendations(\n",
    "    \"Push Ups\", difficulty=\"Intermediate\", target=\"Chest\", top_number=6\n",
    ")\n",
    "print(recommendations)\n"
   ]
  },
  {
   "cell_type": "markdown",
   "id": "07876b50",
   "metadata": {
    "papermill": {
     "duration": 0.012171,
     "end_time": "2025-10-11T14:42:15.747756",
     "exception": false,
     "start_time": "2025-10-11T14:42:15.735585",
     "status": "completed"
    },
    "tags": []
   },
   "source": [
    "## Drop Duplicated Data"
   ]
  },
  {
   "cell_type": "code",
   "execution_count": 30,
   "id": "e38e3e36",
   "metadata": {
    "execution": {
     "iopub.execute_input": "2025-10-11T14:42:15.773717Z",
     "iopub.status.busy": "2025-10-11T14:42:15.772615Z",
     "iopub.status.idle": "2025-10-11T14:42:15.787435Z",
     "shell.execute_reply": "2025-10-11T14:42:15.786295Z"
    },
    "papermill": {
     "duration": 0.029769,
     "end_time": "2025-10-11T14:42:15.789237",
     "exception": false,
     "start_time": "2025-10-11T14:42:15.759468",
     "status": "completed"
    },
    "tags": []
   },
   "outputs": [],
   "source": [
    "df_unique = df.drop_duplicates(\n",
    "    subset=[\"Name of Exercise\", \"Target Muscle Group_Cleaned\", \"Difficulty Level_Cleaned\"]\n",
    ").reset_index(drop=True)\n"
   ]
  },
  {
   "cell_type": "code",
   "execution_count": 31,
   "id": "eafcdd31",
   "metadata": {
    "execution": {
     "iopub.execute_input": "2025-10-11T14:42:15.814017Z",
     "iopub.status.busy": "2025-10-11T14:42:15.813655Z",
     "iopub.status.idle": "2025-10-11T14:42:15.819330Z",
     "shell.execute_reply": "2025-10-11T14:42:15.818245Z"
    },
    "papermill": {
     "duration": 0.019856,
     "end_time": "2025-10-11T14:42:15.820966",
     "exception": false,
     "start_time": "2025-10-11T14:42:15.801110",
     "status": "completed"
    },
    "tags": []
   },
   "outputs": [],
   "source": [
    "def recommend_exercises(difficulty, n=5):\n",
    "    # Filter unique dataset by difficulty\n",
    "    filtered = df_unique[df_unique[\"Difficulty Level_Cleaned\"] == difficulty]\n",
    "\n",
    "    # Handle case if not enough exercises\n",
    "    if filtered.empty:\n",
    "        return f\"No exercises found for difficulty: {difficulty}\"\n",
    "\n",
    "    # Randomly sample 'n' exercises\n",
    "    return filtered.sample(n=min(n, len(filtered)))\n"
   ]
  },
  {
   "cell_type": "code",
   "execution_count": 32,
   "id": "917d5f0a",
   "metadata": {
    "execution": {
     "iopub.execute_input": "2025-10-11T14:42:15.845260Z",
     "iopub.status.busy": "2025-10-11T14:42:15.844906Z",
     "iopub.status.idle": "2025-10-11T14:42:15.861440Z",
     "shell.execute_reply": "2025-10-11T14:42:15.860383Z"
    },
    "papermill": {
     "duration": 0.030626,
     "end_time": "2025-10-11T14:42:15.863174",
     "exception": false,
     "start_time": "2025-10-11T14:42:15.832548",
     "status": "completed"
    },
    "tags": []
   },
   "outputs": [
    {
     "name": "stdout",
     "output_type": "stream",
     "text": [
      "      Age  Gender  Weight (kg)  Height (m)  Max_BPM  Avg_BPM  Resting_BPM  \\\n",
      "2   33.20  Female        58.98        1.67   175.04   123.95        54.96   \n",
      "40  28.33  Female        69.13        1.58   181.99   134.58        49.90   \n",
      "12  19.00    Male        82.66        1.96   173.75   168.71        62.16   \n",
      "35  58.93  Female        59.66        1.76   193.79   120.64        52.98   \n",
      "16  46.00    Male        60.05        1.68   164.91   147.10        62.34   \n",
      "\n",
      "    Session_Duration (hours)  Calories_Burned Workout_Type  ...  pct_maxHR  \\\n",
      "2                       0.91           802.26       Cardio  ...   0.708124   \n",
      "40                      1.49          1073.69         Yoga  ...   0.739491   \n",
      "12                      1.89          2700.62         HIIT  ...   0.970993   \n",
      "35                      1.72          1787.42       Cardio  ...   0.622530   \n",
      "16                      1.17          1544.40         HIIT  ...   0.892002   \n",
      "\n",
      "    cal_balance  lean_mass_kg  expected_burn  Burns Calories (per 30 min)_bc  \\\n",
      "2        805.74     44.635580       654.5266                    1.079607e+20   \n",
      "40       921.31     49.421710       999.0450                    6.084742e+19   \n",
      "12      -131.62     62.715145      1353.0888                    1.039329e+20   \n",
      "35         1.58     46.820712      1159.4176                    6.355220e+19   \n",
      "16       171.60     46.956680       819.5382                    8.695711e+19   \n",
      "\n",
      "    Burns_Calories_Bin  Exercise_Base  Target Muscle Group_Cleaned  \\\n",
      "2                 High           Dips                    Full Body   \n",
      "40                 Low       Push Ups    Chest, Triceps, Shoulders   \n",
      "12                High         Lunges                    Full Body   \n",
      "35                 Low       Deadlift                   Back, Legs   \n",
      "16                High       Deadlift                   Back, Legs   \n",
      "\n",
      "    Difficulty Level_Cleaned                                combined_features  \n",
      "2               Intermediate                      Dips Full Body Intermediate  \n",
      "40              Intermediate  Push-Ups Chest, Triceps, Shoulders Intermediate  \n",
      "12              Intermediate                    Lunges Full Body Intermediate  \n",
      "35              Intermediate                 Deadlift Back, Legs Intermediate  \n",
      "16              Intermediate                Deadlifts Back, Legs Intermediate  \n",
      "\n",
      "[5 rows x 58 columns]\n"
     ]
    }
   ],
   "source": [
    "recommend_intermediate = recommend_exercises(\"Intermediate\", n=5)\n",
    "print(recommend_intermediate)\n"
   ]
  },
  {
   "cell_type": "code",
   "execution_count": 33,
   "id": "8401ac7f",
   "metadata": {
    "execution": {
     "iopub.execute_input": "2025-10-11T14:42:15.887850Z",
     "iopub.status.busy": "2025-10-11T14:42:15.887484Z",
     "iopub.status.idle": "2025-10-11T14:42:15.894071Z",
     "shell.execute_reply": "2025-10-11T14:42:15.892828Z"
    },
    "papermill": {
     "duration": 0.020992,
     "end_time": "2025-10-11T14:42:15.895957",
     "exception": false,
     "start_time": "2025-10-11T14:42:15.874965",
     "status": "completed"
    },
    "tags": []
   },
   "outputs": [],
   "source": [
    "def recommend_exercises_by_muscle(difficulty, muscle_group, n=5):\n",
    "    filtered = df_unique[\n",
    "        (df_unique[\"Difficulty Level_Cleaned\"] == difficulty)\n",
    "        & (df_unique[\"Target Muscle Group_Cleaned\"].str.contains(muscle_group, case=False))\n",
    "    ]\n",
    "\n",
    "    if filtered.empty:\n",
    "        return f\"No exercises found for {muscle_group} at {difficulty} level.\"\n",
    "\n",
    "    return filtered.sample(n=min(n, len(filtered)))\n"
   ]
  },
  {
   "cell_type": "code",
   "execution_count": 34,
   "id": "b0625053",
   "metadata": {
    "execution": {
     "iopub.execute_input": "2025-10-11T14:42:15.921281Z",
     "iopub.status.busy": "2025-10-11T14:42:15.920913Z",
     "iopub.status.idle": "2025-10-11T14:42:15.946477Z",
     "shell.execute_reply": "2025-10-11T14:42:15.945367Z"
    },
    "papermill": {
     "duration": 0.040203,
     "end_time": "2025-10-11T14:42:15.948104",
     "exception": false,
     "start_time": "2025-10-11T14:42:15.907901",
     "status": "completed"
    },
    "tags": []
   },
   "outputs": [
    {
     "data": {
      "text/html": [
       "<div>\n",
       "<style scoped>\n",
       "    .dataframe tbody tr th:only-of-type {\n",
       "        vertical-align: middle;\n",
       "    }\n",
       "\n",
       "    .dataframe tbody tr th {\n",
       "        vertical-align: top;\n",
       "    }\n",
       "\n",
       "    .dataframe thead th {\n",
       "        text-align: right;\n",
       "    }\n",
       "</style>\n",
       "<table border=\"1\" class=\"dataframe\">\n",
       "  <thead>\n",
       "    <tr style=\"text-align: right;\">\n",
       "      <th></th>\n",
       "      <th>Age</th>\n",
       "      <th>Gender</th>\n",
       "      <th>Weight (kg)</th>\n",
       "      <th>Height (m)</th>\n",
       "      <th>Max_BPM</th>\n",
       "      <th>Avg_BPM</th>\n",
       "      <th>Resting_BPM</th>\n",
       "      <th>Session_Duration (hours)</th>\n",
       "      <th>Calories_Burned</th>\n",
       "      <th>Workout_Type</th>\n",
       "      <th>...</th>\n",
       "      <th>pct_maxHR</th>\n",
       "      <th>cal_balance</th>\n",
       "      <th>lean_mass_kg</th>\n",
       "      <th>expected_burn</th>\n",
       "      <th>Burns Calories (per 30 min)_bc</th>\n",
       "      <th>Burns_Calories_Bin</th>\n",
       "      <th>Exercise_Base</th>\n",
       "      <th>Target Muscle Group_Cleaned</th>\n",
       "      <th>Difficulty Level_Cleaned</th>\n",
       "      <th>combined_features</th>\n",
       "    </tr>\n",
       "  </thead>\n",
       "  <tbody>\n",
       "    <tr>\n",
       "      <th>0</th>\n",
       "      <td>34.91</td>\n",
       "      <td>Male</td>\n",
       "      <td>65.27</td>\n",
       "      <td>1.62</td>\n",
       "      <td>188.58</td>\n",
       "      <td>157.65</td>\n",
       "      <td>69.05</td>\n",
       "      <td>1.00</td>\n",
       "      <td>1080.90</td>\n",
       "      <td>Strength</td>\n",
       "      <td>...</td>\n",
       "      <td>0.835985</td>\n",
       "      <td>725.10</td>\n",
       "      <td>47.777394</td>\n",
       "      <td>685.1600</td>\n",
       "      <td>7.260425e+19</td>\n",
       "      <td>Medium</td>\n",
       "      <td>Push Ups</td>\n",
       "      <td>Chest, Triceps, Shoulders</td>\n",
       "      <td>Intermediate</td>\n",
       "      <td>Decline Push-Ups Chest, Triceps, Shoulders Int...</td>\n",
       "    </tr>\n",
       "    <tr>\n",
       "      <th>28</th>\n",
       "      <td>48.18</td>\n",
       "      <td>Female</td>\n",
       "      <td>56.53</td>\n",
       "      <td>1.51</td>\n",
       "      <td>184.75</td>\n",
       "      <td>125.44</td>\n",
       "      <td>52.26</td>\n",
       "      <td>1.37</td>\n",
       "      <td>1311.91</td>\n",
       "      <td>Cardio</td>\n",
       "      <td>...</td>\n",
       "      <td>0.678972</td>\n",
       "      <td>177.09</td>\n",
       "      <td>40.414624</td>\n",
       "      <td>905.7618</td>\n",
       "      <td>5.424740e+19</td>\n",
       "      <td>Low</td>\n",
       "      <td>Push Ups</td>\n",
       "      <td>Chest, Triceps, Shoulders</td>\n",
       "      <td>Intermediate</td>\n",
       "      <td>Plyometric Push-Ups Chest, Triceps, Shoulders ...</td>\n",
       "    </tr>\n",
       "    <tr>\n",
       "      <th>40</th>\n",
       "      <td>28.33</td>\n",
       "      <td>Female</td>\n",
       "      <td>69.13</td>\n",
       "      <td>1.58</td>\n",
       "      <td>181.99</td>\n",
       "      <td>134.58</td>\n",
       "      <td>49.90</td>\n",
       "      <td>1.49</td>\n",
       "      <td>1073.69</td>\n",
       "      <td>Yoga</td>\n",
       "      <td>...</td>\n",
       "      <td>0.739491</td>\n",
       "      <td>921.31</td>\n",
       "      <td>49.421710</td>\n",
       "      <td>999.0450</td>\n",
       "      <td>6.084742e+19</td>\n",
       "      <td>Low</td>\n",
       "      <td>Push Ups</td>\n",
       "      <td>Chest, Triceps, Shoulders</td>\n",
       "      <td>Intermediate</td>\n",
       "      <td>Push-Ups Chest, Triceps, Shoulders Intermediate</td>\n",
       "    </tr>\n",
       "    <tr>\n",
       "      <th>29</th>\n",
       "      <td>40.14</td>\n",
       "      <td>Male</td>\n",
       "      <td>51.72</td>\n",
       "      <td>1.61</td>\n",
       "      <td>198.12</td>\n",
       "      <td>128.23</td>\n",
       "      <td>70.18</td>\n",
       "      <td>0.86</td>\n",
       "      <td>566.57</td>\n",
       "      <td>Yoga</td>\n",
       "      <td>...</td>\n",
       "      <td>0.647234</td>\n",
       "      <td>758.43</td>\n",
       "      <td>39.455559</td>\n",
       "      <td>618.1680</td>\n",
       "      <td>1.073980e+20</td>\n",
       "      <td>High</td>\n",
       "      <td>Push Ups</td>\n",
       "      <td>Chest, Triceps, Shoulders</td>\n",
       "      <td>Intermediate</td>\n",
       "      <td>Push Ups Chest, Triceps, Shoulders Intermediate</td>\n",
       "    </tr>\n",
       "  </tbody>\n",
       "</table>\n",
       "<p>4 rows × 58 columns</p>\n",
       "</div>"
      ],
      "text/plain": [
       "      Age  Gender  Weight (kg)  Height (m)  Max_BPM  Avg_BPM  Resting_BPM  \\\n",
       "0   34.91    Male        65.27        1.62   188.58   157.65        69.05   \n",
       "28  48.18  Female        56.53        1.51   184.75   125.44        52.26   \n",
       "40  28.33  Female        69.13        1.58   181.99   134.58        49.90   \n",
       "29  40.14    Male        51.72        1.61   198.12   128.23        70.18   \n",
       "\n",
       "    Session_Duration (hours)  Calories_Burned Workout_Type  ...  pct_maxHR  \\\n",
       "0                       1.00          1080.90     Strength  ...   0.835985   \n",
       "28                      1.37          1311.91       Cardio  ...   0.678972   \n",
       "40                      1.49          1073.69         Yoga  ...   0.739491   \n",
       "29                      0.86           566.57         Yoga  ...   0.647234   \n",
       "\n",
       "    cal_balance  lean_mass_kg  expected_burn  Burns Calories (per 30 min)_bc  \\\n",
       "0        725.10     47.777394       685.1600                    7.260425e+19   \n",
       "28       177.09     40.414624       905.7618                    5.424740e+19   \n",
       "40       921.31     49.421710       999.0450                    6.084742e+19   \n",
       "29       758.43     39.455559       618.1680                    1.073980e+20   \n",
       "\n",
       "    Burns_Calories_Bin  Exercise_Base  Target Muscle Group_Cleaned  \\\n",
       "0               Medium       Push Ups    Chest, Triceps, Shoulders   \n",
       "28                 Low       Push Ups    Chest, Triceps, Shoulders   \n",
       "40                 Low       Push Ups    Chest, Triceps, Shoulders   \n",
       "29                High       Push Ups    Chest, Triceps, Shoulders   \n",
       "\n",
       "    Difficulty Level_Cleaned  \\\n",
       "0               Intermediate   \n",
       "28              Intermediate   \n",
       "40              Intermediate   \n",
       "29              Intermediate   \n",
       "\n",
       "                                    combined_features  \n",
       "0   Decline Push-Ups Chest, Triceps, Shoulders Int...  \n",
       "28  Plyometric Push-Ups Chest, Triceps, Shoulders ...  \n",
       "40    Push-Ups Chest, Triceps, Shoulders Intermediate  \n",
       "29    Push Ups Chest, Triceps, Shoulders Intermediate  \n",
       "\n",
       "[4 rows x 58 columns]"
      ]
     },
     "execution_count": 34,
     "metadata": {},
     "output_type": "execute_result"
    }
   ],
   "source": [
    "recommend_exercises_by_muscle(\"Intermediate\", \"Chest\", 5)\n"
   ]
  },
  {
   "cell_type": "markdown",
   "id": "6d79fa2c",
   "metadata": {
    "papermill": {
     "duration": 0.011668,
     "end_time": "2025-10-11T14:42:15.972673",
     "exception": false,
     "start_time": "2025-10-11T14:42:15.961005",
     "status": "completed"
    },
    "tags": []
   },
   "source": [
    "## Check Logistic Error in System"
   ]
  },
  {
   "cell_type": "code",
   "execution_count": 35,
   "id": "c40b1850",
   "metadata": {
    "execution": {
     "iopub.execute_input": "2025-10-11T14:42:15.997989Z",
     "iopub.status.busy": "2025-10-11T14:42:15.997653Z",
     "iopub.status.idle": "2025-10-11T14:42:16.015162Z",
     "shell.execute_reply": "2025-10-11T14:42:16.013993Z"
    },
    "papermill": {
     "duration": 0.032336,
     "end_time": "2025-10-11T14:42:16.016901",
     "exception": false,
     "start_time": "2025-10-11T14:42:15.984565",
     "status": "completed"
    },
    "tags": []
   },
   "outputs": [],
   "source": [
    "# Step 1: Create a clean, unique dataset\n",
    "df_unique = df.drop_duplicates(\n",
    "    subset=[\"Name of Exercise\", \"Target Muscle Group_Cleaned\", \"Difficulty Level_Cleaned\"]\n",
    ").reset_index(drop=True)\n",
    "\n",
    "# Step 2: Define a balanced variety recommendation function\n",
    "def recommend_exercises_varied(difficulty, muscle_group=None, n=5):\n",
    "    # Filter by difficulty\n",
    "    filtered = df_unique[df_unique[\"Difficulty Level_Cleaned\"] == difficulty]\n",
    "\n",
    "    # Optional muscle group filter\n",
    "    if muscle_group:\n",
    "        filtered = filtered[\n",
    "            filtered[\"Target Muscle Group_Cleaned\"].str.contains(muscle_group, case=False, na=False)\n",
    "        ]\n",
    "\n",
    "    # Check if any exercises found\n",
    "    if filtered.empty:\n",
    "        return f\"No exercises found for {muscle_group or 'any muscle'} at {difficulty} level.\"\n",
    "\n",
    "    # Sort by calories (optional: to mix light and intense workouts)\n",
    "    filtered = filtered.sort_values(\"Calories_Burned\")\n",
    "\n",
    "    # Divide exercises into light, medium, and intense (based on calories)\n",
    "    quantiles = filtered[\"Calories_Burned\"].quantile([0.33, 0.66])\n",
    "    light = filtered[filtered[\"Calories_Burned\"] <= quantiles[0.33]]\n",
    "    medium = filtered[\n",
    "        (filtered[\"Calories_Burned\"] > quantiles[0.33]) &\n",
    "        (filtered[\"Calories_Burned\"] <= quantiles[0.66])\n",
    "    ]\n",
    "    intense = filtered[filtered[\"Calories_Burned\"] > quantiles[0.66]]\n",
    "\n",
    "    # Randomly pick from each group to add variety\n",
    "    result = pd.concat([\n",
    "        light.sample(n=min(1, len(light)), replace=False),\n",
    "        medium.sample(n=min(2, len(medium)), replace=False),\n",
    "        intense.sample(n=min(2, len(intense)), replace=False),\n",
    "    ])\n",
    "\n",
    "    # Shuffle to mix difficulty balance\n",
    "    return result.sample(frac=1).reset_index(drop=True)\n",
    "\n",
    "# Step 3: Create functions for each level\n",
    "def recommend_beginner(muscle=None):\n",
    "    return recommend_exercises_varied(\"Beginner\", muscle)\n",
    "\n",
    "def recommend_intermediate(muscle=None):\n",
    "    return recommend_exercises_varied(\"Intermediate\", muscle)\n",
    "\n",
    "def recommend_advanced(muscle=None):\n",
    "    return recommend_exercises_varied(\"Advanced\", muscle)\n"
   ]
  },
  {
   "cell_type": "code",
   "execution_count": 36,
   "id": "29ef9c50",
   "metadata": {
    "execution": {
     "iopub.execute_input": "2025-10-11T14:42:16.043181Z",
     "iopub.status.busy": "2025-10-11T14:42:16.042384Z",
     "iopub.status.idle": "2025-10-11T14:42:16.071634Z",
     "shell.execute_reply": "2025-10-11T14:42:16.070353Z"
    },
    "papermill": {
     "duration": 0.044116,
     "end_time": "2025-10-11T14:42:16.073319",
     "exception": false,
     "start_time": "2025-10-11T14:42:16.029203",
     "status": "completed"
    },
    "tags": []
   },
   "outputs": [
    {
     "name": "stdout",
     "output_type": "stream",
     "text": [
      "💪 Beginner Recommendations:\n",
      "No exercises found for Legs at Beginner level.\n",
      "\n",
      "🔥 Intermediate Recommendations:\n",
      "     Age  Gender  Weight (kg)  Height (m)  Max_BPM  Avg_BPM  Resting_BPM  \\\n",
      "0  40.14    Male        51.72        1.61   198.12   128.23        70.18   \n",
      "1  28.33  Female        69.13        1.58   181.99   134.58        49.90   \n",
      "2  48.18  Female        56.53        1.51   184.75   125.44        52.26   \n",
      "3  34.91    Male        65.27        1.62   188.58   157.65        69.05   \n",
      "\n",
      "   Session_Duration (hours)  Calories_Burned Workout_Type  ...  pct_maxHR  \\\n",
      "0                      0.86           566.57         Yoga  ...   0.647234   \n",
      "1                      1.49          1073.69         Yoga  ...   0.739491   \n",
      "2                      1.37          1311.91       Cardio  ...   0.678972   \n",
      "3                      1.00          1080.90     Strength  ...   0.835985   \n",
      "\n",
      "   cal_balance  lean_mass_kg  expected_burn  Burns Calories (per 30 min)_bc  \\\n",
      "0       758.43     39.455559       618.1680                    1.073980e+20   \n",
      "1       921.31     49.421710       999.0450                    6.084742e+19   \n",
      "2       177.09     40.414624       905.7618                    5.424740e+19   \n",
      "3       725.10     47.777394       685.1600                    7.260425e+19   \n",
      "\n",
      "   Burns_Calories_Bin  Exercise_Base  Target Muscle Group_Cleaned  \\\n",
      "0                High       Push Ups    Chest, Triceps, Shoulders   \n",
      "1                 Low       Push Ups    Chest, Triceps, Shoulders   \n",
      "2                 Low       Push Ups    Chest, Triceps, Shoulders   \n",
      "3              Medium       Push Ups    Chest, Triceps, Shoulders   \n",
      "\n",
      "   Difficulty Level_Cleaned                                  combined_features  \n",
      "0              Intermediate    Push Ups Chest, Triceps, Shoulders Intermediate  \n",
      "1              Intermediate    Push-Ups Chest, Triceps, Shoulders Intermediate  \n",
      "2              Intermediate  Plyometric Push-Ups Chest, Triceps, Shoulders ...  \n",
      "3              Intermediate  Decline Push-Ups Chest, Triceps, Shoulders Int...  \n",
      "\n",
      "[4 rows x 58 columns]\n",
      "\n",
      "🏋️ Advanced Recommendations:\n",
      "No exercises found for Back at Advanced level.\n"
     ]
    }
   ],
   "source": [
    "print(\"💪 Beginner Recommendations:\")\n",
    "print(recommend_beginner(\"Legs\"))\n",
    "\n",
    "print(\"\\n🔥 Intermediate Recommendations:\")\n",
    "print(recommend_intermediate(\"Chest\"))\n",
    "\n",
    "print(\"\\n🏋️ Advanced Recommendations:\")\n",
    "print(recommend_advanced(\"Back\"))\n"
   ]
  },
  {
   "cell_type": "markdown",
   "id": "d2eea1fd",
   "metadata": {
    "papermill": {
     "duration": 0.012068,
     "end_time": "2025-10-11T14:42:16.097676",
     "exception": false,
     "start_time": "2025-10-11T14:42:16.085608",
     "status": "completed"
    },
    "tags": []
   },
   "source": [
    "## Create a Random Suggest if no name exercises to (Beginner ,Intermediate  ,Advanced )"
   ]
  },
  {
   "cell_type": "code",
   "execution_count": 37,
   "id": "99151d58",
   "metadata": {
    "execution": {
     "iopub.execute_input": "2025-10-11T14:42:16.123163Z",
     "iopub.status.busy": "2025-10-11T14:42:16.122733Z",
     "iopub.status.idle": "2025-10-11T14:42:16.153996Z",
     "shell.execute_reply": "2025-10-11T14:42:16.152769Z"
    },
    "papermill": {
     "duration": 0.046213,
     "end_time": "2025-10-11T14:42:16.155767",
     "exception": false,
     "start_time": "2025-10-11T14:42:16.109554",
     "status": "completed"
    },
    "tags": []
   },
   "outputs": [],
   "source": [
    "from fuzzywuzzy import process\n",
    "\n",
    "# Ensure clean difficulty labels\n",
    "df_unique[\"Difficulty Level_Cleaned\"] = df_unique[\"Difficulty Level_Cleaned\"].str.strip().str.capitalize()\n",
    "\n",
    "# Clean muscle group names\n",
    "df_unique[\"Target Muscle Group_Cleaned\"] = df_unique[\"Target Muscle Group_Cleaned\"].fillna(\"\").str.title().str.strip()\n",
    "\n",
    "def fuzzy_match_muscle(target, all_muscles):\n",
    "    \"\"\"Find best fuzzy matches for a muscle group.\"\"\"\n",
    "    matches = process.extract(target, all_muscles, limit=3)\n",
    "    return [m[0] for m in matches if m[1] > 70]  # keep strong matches\n",
    "\n",
    "def recommend_exercises_varied(difficulty, muscle_group=None, n=5):\n",
    "    # Filter difficulty\n",
    "    filtered = df_unique[df_unique[\"Difficulty Level_Cleaned\"] == difficulty]\n",
    "\n",
    "    if muscle_group:\n",
    "        all_muscles = df_unique[\"Target Muscle Group_Cleaned\"].dropna().unique()\n",
    "        similar_muscles = fuzzy_match_muscle(muscle_group, all_muscles)\n",
    "        filtered = filtered[filtered[\"Target Muscle Group_Cleaned\"].isin(similar_muscles)]\n",
    "\n",
    "    # Fallback if empty\n",
    "    if filtered.empty:\n",
    "        print(f\"⚠️ No exact matches found for '{muscle_group}' — showing random {difficulty} exercises.\")\n",
    "        filtered = df_unique[df_unique[\"Difficulty Level_Cleaned\"] == difficulty]\n",
    "\n",
    "    # Sort by Calories for variety\n",
    "    filtered = filtered.sort_values(\"Calories_Burned\")\n",
    "    filtered = filtered.drop_duplicates(subset=\"Name of Exercise\")  # ensure variety\n",
    "\n",
    "    # Categorize into calorie intensity\n",
    "    q = filtered[\"Calories_Burned\"].quantile([0.33, 0.66])\n",
    "    light = filtered[filtered[\"Calories_Burned\"] <= q[0.33]]\n",
    "    medium = filtered[(filtered[\"Calories_Burned\"] > q[0.33]) & (filtered[\"Calories_Burned\"] <= q[0.66])]\n",
    "    intense = filtered[filtered[\"Calories_Burned\"] > q[0.66]]\n",
    "\n",
    "    # Sample with fallback\n",
    "    result = pd.concat([\n",
    "        light.sample(n=min(1, len(light)), replace=False),\n",
    "        medium.sample(n=min(2, len(medium)), replace=False),\n",
    "        intense.sample(n=min(2, len(intense)), replace=False),\n",
    "    ])\n",
    "\n",
    "    # Shuffle\n",
    "    return result.sample(frac=1).reset_index(drop=True)[\n",
    "        [\"Name of Exercise\", \"Target Muscle Group_Cleaned\", \"Difficulty Level_Cleaned\", \"Calories_Burned\"]\n",
    "    ]\n",
    "\n",
    "# Easy helper functions\n",
    "def recommend_beginner(muscle=None):\n",
    "    return recommend_exercises_varied(\"Beginner\", muscle)\n",
    "\n",
    "def recommend_intermediate(muscle=None):\n",
    "    return recommend_exercises_varied(\"Intermediate\", muscle)\n",
    "\n",
    "def recommend_advanced(muscle=None):\n",
    "    return recommend_exercises_varied(\"Advanced\", muscle)\n"
   ]
  },
  {
   "cell_type": "code",
   "execution_count": 38,
   "id": "998a8b7f",
   "metadata": {
    "execution": {
     "iopub.execute_input": "2025-10-11T14:42:16.182523Z",
     "iopub.status.busy": "2025-10-11T14:42:16.181596Z",
     "iopub.status.idle": "2025-10-11T14:42:16.244464Z",
     "shell.execute_reply": "2025-10-11T14:42:16.243463Z"
    },
    "papermill": {
     "duration": 0.077625,
     "end_time": "2025-10-11T14:42:16.246202",
     "exception": false,
     "start_time": "2025-10-11T14:42:16.168577",
     "status": "completed"
    },
    "tags": []
   },
   "outputs": [
    {
     "name": "stdout",
     "output_type": "stream",
     "text": [
      "💪 Beginner Recommendations:\n",
      "⚠️ No exact matches found for 'Legs' — showing random Beginner exercises.\n"
     ]
    },
    {
     "data": {
      "text/html": [
       "<div>\n",
       "<style scoped>\n",
       "    .dataframe tbody tr th:only-of-type {\n",
       "        vertical-align: middle;\n",
       "    }\n",
       "\n",
       "    .dataframe tbody tr th {\n",
       "        vertical-align: top;\n",
       "    }\n",
       "\n",
       "    .dataframe thead th {\n",
       "        text-align: right;\n",
       "    }\n",
       "</style>\n",
       "<table border=\"1\" class=\"dataframe\">\n",
       "  <thead>\n",
       "    <tr style=\"text-align: right;\">\n",
       "      <th></th>\n",
       "      <th>Name of Exercise</th>\n",
       "      <th>Target Muscle Group_Cleaned</th>\n",
       "      <th>Difficulty Level_Cleaned</th>\n",
       "      <th>Calories_Burned</th>\n",
       "    </tr>\n",
       "  </thead>\n",
       "  <tbody>\n",
       "    <tr>\n",
       "      <th>0</th>\n",
       "      <td>Dragon Flags</td>\n",
       "      <td>Full Body</td>\n",
       "      <td>Beginner</td>\n",
       "      <td>2060.78</td>\n",
       "    </tr>\n",
       "    <tr>\n",
       "      <th>1</th>\n",
       "      <td>Incline Push-Ups</td>\n",
       "      <td>Chest, Triceps, Shoulders</td>\n",
       "      <td>Beginner</td>\n",
       "      <td>842.40</td>\n",
       "    </tr>\n",
       "    <tr>\n",
       "      <th>2</th>\n",
       "      <td>Renegade Rows</td>\n",
       "      <td>Full Body</td>\n",
       "      <td>Beginner</td>\n",
       "      <td>979.20</td>\n",
       "    </tr>\n",
       "    <tr>\n",
       "      <th>3</th>\n",
       "      <td>Jumping Jacks</td>\n",
       "      <td>Full Body</td>\n",
       "      <td>Beginner</td>\n",
       "      <td>1927.20</td>\n",
       "    </tr>\n",
       "    <tr>\n",
       "      <th>4</th>\n",
       "      <td>Lateral Raises</td>\n",
       "      <td>Full Body</td>\n",
       "      <td>Beginner</td>\n",
       "      <td>1727.73</td>\n",
       "    </tr>\n",
       "  </tbody>\n",
       "</table>\n",
       "</div>"
      ],
      "text/plain": [
       "   Name of Exercise Target Muscle Group_Cleaned Difficulty Level_Cleaned  \\\n",
       "0      Dragon Flags                   Full Body                 Beginner   \n",
       "1  Incline Push-Ups   Chest, Triceps, Shoulders                 Beginner   \n",
       "2     Renegade Rows                   Full Body                 Beginner   \n",
       "3     Jumping Jacks                   Full Body                 Beginner   \n",
       "4    Lateral Raises                   Full Body                 Beginner   \n",
       "\n",
       "   Calories_Burned  \n",
       "0          2060.78  \n",
       "1           842.40  \n",
       "2           979.20  \n",
       "3          1927.20  \n",
       "4          1727.73  "
      ]
     },
     "metadata": {},
     "output_type": "display_data"
    },
    {
     "name": "stdout",
     "output_type": "stream",
     "text": [
      "\n",
      "🔥 Intermediate Recommendations:\n"
     ]
    },
    {
     "data": {
      "text/html": [
       "<div>\n",
       "<style scoped>\n",
       "    .dataframe tbody tr th:only-of-type {\n",
       "        vertical-align: middle;\n",
       "    }\n",
       "\n",
       "    .dataframe tbody tr th {\n",
       "        vertical-align: top;\n",
       "    }\n",
       "\n",
       "    .dataframe thead th {\n",
       "        text-align: right;\n",
       "    }\n",
       "</style>\n",
       "<table border=\"1\" class=\"dataframe\">\n",
       "  <thead>\n",
       "    <tr style=\"text-align: right;\">\n",
       "      <th></th>\n",
       "      <th>Name of Exercise</th>\n",
       "      <th>Target Muscle Group_Cleaned</th>\n",
       "      <th>Difficulty Level_Cleaned</th>\n",
       "      <th>Calories_Burned</th>\n",
       "    </tr>\n",
       "  </thead>\n",
       "  <tbody>\n",
       "    <tr>\n",
       "      <th>0</th>\n",
       "      <td>Push-Ups</td>\n",
       "      <td>Chest, Triceps, Shoulders</td>\n",
       "      <td>Intermediate</td>\n",
       "      <td>1073.69</td>\n",
       "    </tr>\n",
       "    <tr>\n",
       "      <th>1</th>\n",
       "      <td>Plyometric Push-Ups</td>\n",
       "      <td>Chest, Triceps, Shoulders</td>\n",
       "      <td>Intermediate</td>\n",
       "      <td>1311.91</td>\n",
       "    </tr>\n",
       "    <tr>\n",
       "      <th>2</th>\n",
       "      <td>Decline Push-Ups</td>\n",
       "      <td>Chest, Triceps, Shoulders</td>\n",
       "      <td>Intermediate</td>\n",
       "      <td>1080.90</td>\n",
       "    </tr>\n",
       "    <tr>\n",
       "      <th>3</th>\n",
       "      <td>Push Ups</td>\n",
       "      <td>Chest, Triceps, Shoulders</td>\n",
       "      <td>Intermediate</td>\n",
       "      <td>566.57</td>\n",
       "    </tr>\n",
       "  </tbody>\n",
       "</table>\n",
       "</div>"
      ],
      "text/plain": [
       "      Name of Exercise Target Muscle Group_Cleaned Difficulty Level_Cleaned  \\\n",
       "0             Push-Ups   Chest, Triceps, Shoulders             Intermediate   \n",
       "1  Plyometric Push-Ups   Chest, Triceps, Shoulders             Intermediate   \n",
       "2     Decline Push-Ups   Chest, Triceps, Shoulders             Intermediate   \n",
       "3             Push Ups   Chest, Triceps, Shoulders             Intermediate   \n",
       "\n",
       "   Calories_Burned  \n",
       "0          1073.69  \n",
       "1          1311.91  \n",
       "2          1080.90  \n",
       "3           566.57  "
      ]
     },
     "metadata": {},
     "output_type": "display_data"
    },
    {
     "name": "stdout",
     "output_type": "stream",
     "text": [
      "\n",
      "🏋️ Advanced Recommendations:\n",
      "⚠️ No exact matches found for 'Back' — showing random Advanced exercises.\n"
     ]
    },
    {
     "data": {
      "text/html": [
       "<div>\n",
       "<style scoped>\n",
       "    .dataframe tbody tr th:only-of-type {\n",
       "        vertical-align: middle;\n",
       "    }\n",
       "\n",
       "    .dataframe tbody tr th {\n",
       "        vertical-align: top;\n",
       "    }\n",
       "\n",
       "    .dataframe thead th {\n",
       "        text-align: right;\n",
       "    }\n",
       "</style>\n",
       "<table border=\"1\" class=\"dataframe\">\n",
       "  <thead>\n",
       "    <tr style=\"text-align: right;\">\n",
       "      <th></th>\n",
       "      <th>Name of Exercise</th>\n",
       "      <th>Target Muscle Group_Cleaned</th>\n",
       "      <th>Difficulty Level_Cleaned</th>\n",
       "      <th>Calories_Burned</th>\n",
       "    </tr>\n",
       "  </thead>\n",
       "  <tbody>\n",
       "    <tr>\n",
       "      <th>0</th>\n",
       "      <td>Bicep Curls</td>\n",
       "      <td>Biceps</td>\n",
       "      <td>Advanced</td>\n",
       "      <td>1166.40</td>\n",
       "    </tr>\n",
       "    <tr>\n",
       "      <th>1</th>\n",
       "      <td>Zottman Curls</td>\n",
       "      <td>Biceps</td>\n",
       "      <td>Advanced</td>\n",
       "      <td>1427.40</td>\n",
       "    </tr>\n",
       "    <tr>\n",
       "      <th>2</th>\n",
       "      <td>Frog Jumps</td>\n",
       "      <td>Full Body</td>\n",
       "      <td>Advanced</td>\n",
       "      <td>2189.58</td>\n",
       "    </tr>\n",
       "    <tr>\n",
       "      <th>3</th>\n",
       "      <td>Glute Bridges</td>\n",
       "      <td>Full Body</td>\n",
       "      <td>Advanced</td>\n",
       "      <td>2062.37</td>\n",
       "    </tr>\n",
       "    <tr>\n",
       "      <th>4</th>\n",
       "      <td>Bicycle Crunches</td>\n",
       "      <td>Core, Abs</td>\n",
       "      <td>Advanced</td>\n",
       "      <td>541.20</td>\n",
       "    </tr>\n",
       "  </tbody>\n",
       "</table>\n",
       "</div>"
      ],
      "text/plain": [
       "   Name of Exercise Target Muscle Group_Cleaned Difficulty Level_Cleaned  \\\n",
       "0       Bicep Curls                      Biceps                 Advanced   \n",
       "1     Zottman Curls                      Biceps                 Advanced   \n",
       "2        Frog Jumps                   Full Body                 Advanced   \n",
       "3     Glute Bridges                   Full Body                 Advanced   \n",
       "4  Bicycle Crunches                   Core, Abs                 Advanced   \n",
       "\n",
       "   Calories_Burned  \n",
       "0          1166.40  \n",
       "1          1427.40  \n",
       "2          2189.58  \n",
       "3          2062.37  \n",
       "4           541.20  "
      ]
     },
     "metadata": {},
     "output_type": "display_data"
    }
   ],
   "source": [
    "print(\"💪 Beginner Recommendations:\")\n",
    "display(recommend_beginner(\"Legs\"))\n",
    "\n",
    "print(\"\\n🔥 Intermediate Recommendations:\")\n",
    "display(recommend_intermediate(\"Chest\"))\n",
    "\n",
    "print(\"\\n🏋️ Advanced Recommendations:\")\n",
    "display(recommend_advanced(\"Back\"))\n"
   ]
  },
  {
   "cell_type": "markdown",
   "id": "71f6a896",
   "metadata": {
    "papermill": {
     "duration": 0.012265,
     "end_time": "2025-10-11T14:42:16.271362",
     "exception": false,
     "start_time": "2025-10-11T14:42:16.259097",
     "status": "completed"
    },
    "tags": []
   },
   "source": [
    "## Last version about Recommender"
   ]
  },
  {
   "cell_type": "code",
   "execution_count": 39,
   "id": "b02a4961",
   "metadata": {
    "execution": {
     "iopub.execute_input": "2025-10-11T14:42:16.297703Z",
     "iopub.status.busy": "2025-10-11T14:42:16.297397Z",
     "iopub.status.idle": "2025-10-11T14:42:16.308558Z",
     "shell.execute_reply": "2025-10-11T14:42:16.307159Z"
    },
    "papermill": {
     "duration": 0.026575,
     "end_time": "2025-10-11T14:42:16.310469",
     "exception": false,
     "start_time": "2025-10-11T14:42:16.283894",
     "status": "completed"
    },
    "tags": []
   },
   "outputs": [],
   "source": [
    "import pandas as pd\n",
    "import pickle\n",
    "from fuzzywuzzy import process\n",
    "\n",
    "class FitnessRecommender:\n",
    "    def __init__(self, df):\n",
    "        self.df = df.copy()\n",
    "        self.df[\"Difficulty Level_Cleaned\"] = (\n",
    "            self.df[\"Difficulty Level_Cleaned\"].str.strip().str.capitalize()\n",
    "        )\n",
    "        self.df[\"Target Muscle Group_Cleaned\"] = (\n",
    "            self.df[\"Target Muscle Group_Cleaned\"].fillna(\"\").str.title().str.strip()\n",
    "        )\n",
    "\n",
    "    def fuzzy_match_muscle(self, target):\n",
    "        all_muscles = self.df[\"Target Muscle Group_Cleaned\"].dropna().unique()\n",
    "        matches = process.extract(target, all_muscles, limit=3)\n",
    "        return [m[0] for m in matches if m[1] > 70]\n",
    "\n",
    "    def recommend(self, difficulty, muscle_group=None, n=5):\n",
    "        df = self.df[self.df[\"Difficulty Level_Cleaned\"] == difficulty]\n",
    "\n",
    "        if muscle_group:\n",
    "            similar = self.fuzzy_match_muscle(muscle_group)\n",
    "            df = df[df[\"Target Muscle Group_Cleaned\"].isin(similar)]\n",
    "\n",
    "        if df.empty:\n",
    "            df = self.df[self.df[\"Difficulty Level_Cleaned\"] == difficulty]\n",
    "\n",
    "        df = df.drop_duplicates(subset=\"Name of Exercise\")\n",
    "        q = df[\"Calories_Burned\"].quantile([0.33, 0.66])\n",
    "\n",
    "        light = df[df[\"Calories_Burned\"] <= q[0.33]]\n",
    "        medium = df[(df[\"Calories_Burned\"] > q[0.33]) & (df[\"Calories_Burned\"] <= q[0.66])]\n",
    "        intense = df[df[\"Calories_Burned\"] > q[0.66]]\n",
    "\n",
    "        result = pd.concat([\n",
    "            light.sample(n=min(1, len(light)), replace=False),\n",
    "            medium.sample(n=min(2, len(medium)), replace=False),\n",
    "            intense.sample(n=min(2, len(intense)), replace=False),\n",
    "        ])\n",
    "\n",
    "        return result.sample(frac=1).reset_index(drop=True)[\n",
    "            [\"Name of Exercise\", \"Target Muscle Group_Cleaned\", \"Difficulty Level_Cleaned\", \"Calories_Burned\"]\n",
    "        ]\n"
   ]
  },
  {
   "cell_type": "markdown",
   "id": "ac98d7fd",
   "metadata": {
    "papermill": {
     "duration": 0.012514,
     "end_time": "2025-10-11T14:42:16.336008",
     "exception": false,
     "start_time": "2025-10-11T14:42:16.323494",
     "status": "completed"
    },
    "tags": []
   },
   "source": [
    "## Save the Model"
   ]
  },
  {
   "cell_type": "code",
   "execution_count": 40,
   "id": "6b46ebfa",
   "metadata": {
    "execution": {
     "iopub.execute_input": "2025-10-11T14:42:16.363652Z",
     "iopub.status.busy": "2025-10-11T14:42:16.363343Z",
     "iopub.status.idle": "2025-10-11T14:42:16.373017Z",
     "shell.execute_reply": "2025-10-11T14:42:16.371654Z"
    },
    "papermill": {
     "duration": 0.025086,
     "end_time": "2025-10-11T14:42:16.374732",
     "exception": false,
     "start_time": "2025-10-11T14:42:16.349646",
     "status": "completed"
    },
    "tags": []
   },
   "outputs": [
    {
     "name": "stdout",
     "output_type": "stream",
     "text": [
      "✅ Model saved successfully!\n"
     ]
    }
   ],
   "source": [
    "# Create model instance\n",
    "recommender = FitnessRecommender(df_unique)\n",
    "\n",
    "# Save to pickle\n",
    "with open(\"fitness_recommender.pkl\", \"wb\") as f:\n",
    "    pickle.dump(recommender, f)\n",
    "\n",
    "print(\"✅ Model saved successfully!\")\n"
   ]
  }
 ],
 "metadata": {
  "kaggle": {
   "accelerator": "none",
   "dataSources": [
    {
     "datasetId": 8436570,
     "sourceId": 13316358,
     "sourceType": "datasetVersion"
    }
   ],
   "dockerImageVersionId": 31153,
   "isGpuEnabled": false,
   "isInternetEnabled": true,
   "language": "python",
   "sourceType": "notebook"
  },
  "kernelspec": {
   "display_name": "Python 3",
   "language": "python",
   "name": "python3"
  },
  "language_info": {
   "codemirror_mode": {
    "name": "ipython",
    "version": 3
   },
   "file_extension": ".py",
   "mimetype": "text/x-python",
   "name": "python",
   "nbconvert_exporter": "python",
   "pygments_lexer": "ipython3",
   "version": "3.11.13"
  },
  "papermill": {
   "default_parameters": {},
   "duration": 31.05016,
   "end_time": "2025-10-11T14:42:17.109738",
   "environment_variables": {},
   "exception": null,
   "input_path": "__notebook__.ipynb",
   "output_path": "__notebook__.ipynb",
   "parameters": {},
   "start_time": "2025-10-11T14:41:46.059578",
   "version": "2.6.0"
  }
 },
 "nbformat": 4,
 "nbformat_minor": 5
}
