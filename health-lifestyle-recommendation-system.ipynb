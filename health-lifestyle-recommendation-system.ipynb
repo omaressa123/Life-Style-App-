{
 "cells": [
  {
   "cell_type": "markdown",
   "id": "08da884e",
   "metadata": {
    "papermill": {
     "duration": 0.004447,
     "end_time": "2025-10-13T17:06:19.983426",
     "exception": false,
     "start_time": "2025-10-13T17:06:19.978979",
     "status": "completed"
    },
    "tags": []
   },
   "source": [
    "<div style=\"font-family:'Poppins',sans-serif; background-color:#121212; color:#FFFFFF; border-radius:18px; padding:28px; max-width:900px; margin:auto; box-shadow:0 0 25px rgba(0,0,0,0.6); line-height:1.8;\">\n",
    "\n",
    "  <h2 style=\"color:#1DB954; text-align:center; font-size:26px; margin-bottom:15px;\">❤️ 3️⃣ Health & Lifestyle Recommendation System</h2>\n",
    "\n",
    "  <h3 style=\"color:#FFD60A; font-size:20px;\">🎯 Goal</h3>\n",
    "  <p>Recommend overall fitness and health adjustments (<strong>exercise + nutrition + habits</strong>).</p>\n",
    "\n",
    "  <h3 style=\"color:#FFD60A; font-size:20px;\">🔹 Input Features</h3>\n",
    "  <ul style=\"list-style:none; padding-left:10px;\">\n",
    "    <li>🧍 <strong>Age, Gender, BMI, Fat_Percentage</strong></li>\n",
    "    <li>🏋️ <strong>Workout_Frequency, Physical exercise</strong></li>\n",
    "    <li>💧 <strong>Water_Intake (liters)</strong></li>\n",
    "    <li>🍽️ <strong>Daily meals frequency</strong></li>\n",
    "  </ul>\n",
    "\n",
    "  <h3 style=\"color:#FFD60A; font-size:20px;\">🔹 Output</h3>\n",
    "  <p>Personalized suggestions like:</p>\n",
    "  <ul style=\"list-style:none; padding-left:10px;\">\n",
    "    <li>💡 “Increase cardio sessions to 3/week”</li>\n",
    "    <li>💧 “Drink at least 2.5L water per day”</li>\n",
    "    <li>🍳 “Add protein-rich breakfast options”</li>\n",
    "    <li>📊 “Your lifestyle score = 8/10”</li>\n",
    "  </ul>\n",
    "\n",
    "  <h3 style=\"color:#FFD60A; font-size:20px;\">🔹 Techniques</h3>\n",
    "  <table style=\"width:100%; border-collapse:collapse; text-align:left; background-color:#1E1E1E; border-radius:10px; overflow:hidden; margin-top:10px;\">\n",
    "    <tr style=\"background-color:#1DB95433;\">\n",
    "      <th style=\"padding:10px; color:#1DB954;\">Method</th>\n",
    "      <th style=\"padding:10px; color:#1DB954;\">Description</th>\n",
    "    </tr>\n",
    "    <tr>\n",
    "      <td style=\"padding:10px;\">Rule-Based</td>\n",
    "      <td style=\"padding:10px;\">Use thresholds (BMI, calories, etc.) to generate suggestions.</td>\n",
    "    </tr>\n",
    "    <tr>\n",
    "      <td style=\"padding:10px;\">Machine Learning</td>\n",
    "      <td style=\"padding:10px;\">Train model to predict health level  and give tips for improvement.</td>\n",
    "    </tr>\n",
    "    <tr>\n",
    "      <td style=\"padding:10px;\">Recommendation Hybrid</td>\n",
    "      <td style=\"padding:10px;\">Combine habits + meals + workouts based on user health pattern.</td>\n",
    "    </tr>\n",
    "  </table>\n",
    "\n",
    "  <h3 style=\"color:#FFD60A; font-size:20px;\">🔹 Example</h3>\n",
    "  <p>If user has high BMI, low activity, and low water intake →</p>\n",
    "  <div style=\"background-color:#1E1E1E; border-left:5px solid #1DB954; padding:10px 15px; border-radius:8px;\">\n",
    "    💡 Suggest more daily movement, water intake, and lower-calorie meals.\n",
    "  </div>\n",
    "\n",
    "  <h3 style=\"color:#FFD60A; font-size:20px;\">🚀 Implementation Roadmap</h3>\n",
    "  <table style=\"width:100%; border-collapse:collapse; text-align:left; background-color:#1E1E1E; border-radius:10px; overflow:hidden;\">\n",
    "    <tr style=\"background-color:#1DB95433;\">\n",
    "      <th style=\"padding:10px; color:#1DB954;\">Phase</th>\n",
    "      <th style=\"padding:10px; color:#1DB954;\">Task</th>\n",
    "      <th style=\"padding:10px; color:#1DB954;\">Tools</th>\n",
    "    </tr>\n",
    "    <tr>\n",
    "      <td style=\"padding:10px;\">Data Prep</td>\n",
    "      <td style=\"padding:10px;\">Clean, encode categorical columns</td>\n",
    "      <td style=\"padding:10px;\">pandas, sklearn</td>\n",
    "    </tr>\n",
    "    <tr>\n",
    "      <td style=\"padding:10px;\">Modeling</td>\n",
    "      <td style=\"padding:10px;\">Create 3 recommenders</td>\n",
    "      <td style=\"padding:10px;\">sklearn, scipy</td>\n",
    "    </tr>\n",
    "    <tr>\n",
    "      <td style=\"padding:10px;\">Evaluation</td>\n",
    "      <td style=\"padding:10px;\">Check relevance & personalization</td>\n",
    "      <td style=\"padding:10px;\">cosine similarity, precision@k</td>\n",
    "    </tr>\n",
    "    <tr>\n",
    "      <td style=\"padding:10px;\">Deployment</td>\n",
    "      <td style=\"padding:10px;\">Flask or Streamlit app</td>\n",
    "      <td style=\"padding:10px;\">Flask / Streamlit + SQLite/PostgreSQL</td>\n",
    "    </tr>\n",
    "  </table>\n",
    "\n",
    "</div>\n"
   ]
  },
  {
   "cell_type": "markdown",
   "id": "1e6d3ec7",
   "metadata": {
    "papermill": {
     "duration": 0.002798,
     "end_time": "2025-10-13T17:06:19.989943",
     "exception": false,
     "start_time": "2025-10-13T17:06:19.987145",
     "status": "completed"
    },
    "tags": []
   },
   "source": [
    "## ⚙️ Import & Prepare Data"
   ]
  },
  {
   "cell_type": "code",
   "execution_count": 1,
   "id": "4baf18f9",
   "metadata": {
    "_cell_guid": "b1076dfc-b9ad-4769-8c92-a6c4dae69d19",
    "_uuid": "8f2839f25d086af736a60e9eeb907d3b93b6e0e5",
    "execution": {
     "iopub.execute_input": "2025-10-13T17:06:19.997335Z",
     "iopub.status.busy": "2025-10-13T17:06:19.997032Z",
     "iopub.status.idle": "2025-10-13T17:06:24.175438Z",
     "shell.execute_reply": "2025-10-13T17:06:24.174453Z"
    },
    "papermill": {
     "duration": 4.184164,
     "end_time": "2025-10-13T17:06:24.177170",
     "exception": false,
     "start_time": "2025-10-13T17:06:19.993006",
     "status": "completed"
    },
    "tags": []
   },
   "outputs": [
    {
     "name": "stdout",
     "output_type": "stream",
     "text": [
      "/kaggle/input/life-style-data/Final_data.csv\n",
      "/kaggle/input/life-style-data/expanded_fitness_data.csv\n"
     ]
    }
   ],
   "source": [
    "# system Handling\n",
    "import os\n",
    "import warnings\n",
    "import joblib # => model deployment\n",
    "\n",
    "# Data Handling & Vasualization\n",
    "import numpy as np # linear algebra\n",
    "import pandas as pd # data processing\n",
    "import matplotlib.pyplot as plt\n",
    "# Machine Learning Library\n",
    "from sklearn.model_selection import train_test_split\n",
    "from sklearn.ensemble import RandomForestClassifier\n",
    "from sklearn.preprocessing import LabelEncoder, StandardScaler\n",
    "\n",
    "for dirname, _, filenames in os.walk('/kaggle/input'):\n",
    "    for filename in filenames:\n",
    "        print(os.path.join(dirname, filename))\n",
    "\n"
   ]
  },
  {
   "cell_type": "code",
   "execution_count": 2,
   "id": "03098523",
   "metadata": {
    "execution": {
     "iopub.execute_input": "2025-10-13T17:06:24.185689Z",
     "iopub.status.busy": "2025-10-13T17:06:24.185070Z",
     "iopub.status.idle": "2025-10-13T17:06:24.650552Z",
     "shell.execute_reply": "2025-10-13T17:06:24.649587Z"
    },
    "papermill": {
     "duration": 0.471711,
     "end_time": "2025-10-13T17:06:24.652185",
     "exception": false,
     "start_time": "2025-10-13T17:06:24.180474",
     "status": "completed"
    },
    "tags": []
   },
   "outputs": [
    {
     "data": {
      "text/plain": [
       "Index(['Age', 'Gender', 'Weight (kg)', 'Height (m)', 'Max_BPM', 'Avg_BPM',\n",
       "       'Resting_BPM', 'Session_Duration (hours)', 'Calories_Burned',\n",
       "       'Workout_Type', 'Fat_Percentage', 'Water_Intake (liters)',\n",
       "       'Workout_Frequency (days/week)', 'Experience_Level', 'BMI',\n",
       "       'Daily meals frequency', 'Physical exercise', 'Carbs', 'Proteins',\n",
       "       'Fats', 'Calories', 'meal_name', 'meal_type', 'diet_type', 'sugar_g',\n",
       "       'sodium_mg', 'cholesterol_mg', 'serving_size_g', 'cooking_method',\n",
       "       'prep_time_min', 'cook_time_min', 'rating', 'Name of Exercise', 'Sets',\n",
       "       'Reps', 'Benefit', 'Burns Calories (per 30 min)', 'Target Muscle Group',\n",
       "       'Equipment Needed', 'Difficulty Level', 'Body Part', 'Type of Muscle',\n",
       "       'Workout', 'BMI_calc', 'cal_from_macros', 'pct_carbs', 'protein_per_kg',\n",
       "       'pct_HRR', 'pct_maxHR', 'cal_balance', 'lean_mass_kg', 'expected_burn',\n",
       "       'Burns Calories (per 30 min)_bc', 'Burns_Calories_Bin'],\n",
       "      dtype='object')"
      ]
     },
     "execution_count": 2,
     "metadata": {},
     "output_type": "execute_result"
    }
   ],
   "source": [
    "df=pd.read_csv('/kaggle/input/life-style-data/Final_data.csv') \n",
    "df.columns"
   ]
  },
  {
   "cell_type": "code",
   "execution_count": 3,
   "id": "71a5b867",
   "metadata": {
    "execution": {
     "iopub.execute_input": "2025-10-13T17:06:24.660964Z",
     "iopub.status.busy": "2025-10-13T17:06:24.660649Z",
     "iopub.status.idle": "2025-10-13T17:06:24.701272Z",
     "shell.execute_reply": "2025-10-13T17:06:24.700131Z"
    },
    "papermill": {
     "duration": 0.047238,
     "end_time": "2025-10-13T17:06:24.702939",
     "exception": false,
     "start_time": "2025-10-13T17:06:24.655701",
     "status": "completed"
    },
    "tags": []
   },
   "outputs": [
    {
     "data": {
      "text/html": [
       "<div>\n",
       "<style scoped>\n",
       "    .dataframe tbody tr th:only-of-type {\n",
       "        vertical-align: middle;\n",
       "    }\n",
       "\n",
       "    .dataframe tbody tr th {\n",
       "        vertical-align: top;\n",
       "    }\n",
       "\n",
       "    .dataframe thead th {\n",
       "        text-align: right;\n",
       "    }\n",
       "</style>\n",
       "<table border=\"1\" class=\"dataframe\">\n",
       "  <thead>\n",
       "    <tr style=\"text-align: right;\">\n",
       "      <th></th>\n",
       "      <th>Age</th>\n",
       "      <th>Gender</th>\n",
       "      <th>Weight (kg)</th>\n",
       "      <th>Height (m)</th>\n",
       "      <th>Max_BPM</th>\n",
       "      <th>Avg_BPM</th>\n",
       "      <th>Resting_BPM</th>\n",
       "      <th>Session_Duration (hours)</th>\n",
       "      <th>Calories_Burned</th>\n",
       "      <th>Workout_Type</th>\n",
       "      <th>...</th>\n",
       "      <th>cal_from_macros</th>\n",
       "      <th>pct_carbs</th>\n",
       "      <th>protein_per_kg</th>\n",
       "      <th>pct_HRR</th>\n",
       "      <th>pct_maxHR</th>\n",
       "      <th>cal_balance</th>\n",
       "      <th>lean_mass_kg</th>\n",
       "      <th>expected_burn</th>\n",
       "      <th>Burns Calories (per 30 min)_bc</th>\n",
       "      <th>Burns_Calories_Bin</th>\n",
       "    </tr>\n",
       "  </thead>\n",
       "  <tbody>\n",
       "    <tr>\n",
       "      <th>0</th>\n",
       "      <td>34.91</td>\n",
       "      <td>Male</td>\n",
       "      <td>65.27</td>\n",
       "      <td>1.62</td>\n",
       "      <td>188.58</td>\n",
       "      <td>157.65</td>\n",
       "      <td>69.05</td>\n",
       "      <td>1.00</td>\n",
       "      <td>1080.90</td>\n",
       "      <td>Strength</td>\n",
       "      <td>...</td>\n",
       "      <td>2139.59</td>\n",
       "      <td>0.500432</td>\n",
       "      <td>1.624789</td>\n",
       "      <td>0.741237</td>\n",
       "      <td>0.835985</td>\n",
       "      <td>725.10</td>\n",
       "      <td>47.777394</td>\n",
       "      <td>685.1600</td>\n",
       "      <td>7.260425e+19</td>\n",
       "      <td>Medium</td>\n",
       "    </tr>\n",
       "    <tr>\n",
       "      <th>1</th>\n",
       "      <td>23.37</td>\n",
       "      <td>Female</td>\n",
       "      <td>56.41</td>\n",
       "      <td>1.55</td>\n",
       "      <td>179.43</td>\n",
       "      <td>131.75</td>\n",
       "      <td>73.18</td>\n",
       "      <td>1.37</td>\n",
       "      <td>1809.91</td>\n",
       "      <td>HIIT</td>\n",
       "      <td>...</td>\n",
       "      <td>1711.65</td>\n",
       "      <td>0.500850</td>\n",
       "      <td>1.514093</td>\n",
       "      <td>0.551247</td>\n",
       "      <td>0.734270</td>\n",
       "      <td>-232.91</td>\n",
       "      <td>40.809803</td>\n",
       "      <td>978.6184</td>\n",
       "      <td>1.020506e+20</td>\n",
       "      <td>High</td>\n",
       "    </tr>\n",
       "  </tbody>\n",
       "</table>\n",
       "<p>2 rows × 54 columns</p>\n",
       "</div>"
      ],
      "text/plain": [
       "     Age  Gender  Weight (kg)  Height (m)  Max_BPM  Avg_BPM  Resting_BPM  \\\n",
       "0  34.91    Male        65.27        1.62   188.58   157.65        69.05   \n",
       "1  23.37  Female        56.41        1.55   179.43   131.75        73.18   \n",
       "\n",
       "   Session_Duration (hours)  Calories_Burned Workout_Type  ...  \\\n",
       "0                      1.00          1080.90     Strength  ...   \n",
       "1                      1.37          1809.91         HIIT  ...   \n",
       "\n",
       "   cal_from_macros  pct_carbs  protein_per_kg   pct_HRR  pct_maxHR  \\\n",
       "0          2139.59   0.500432        1.624789  0.741237   0.835985   \n",
       "1          1711.65   0.500850        1.514093  0.551247   0.734270   \n",
       "\n",
       "   cal_balance  lean_mass_kg  expected_burn  Burns Calories (per 30 min)_bc  \\\n",
       "0       725.10     47.777394       685.1600                    7.260425e+19   \n",
       "1      -232.91     40.809803       978.6184                    1.020506e+20   \n",
       "\n",
       "   Burns_Calories_Bin  \n",
       "0              Medium  \n",
       "1                High  \n",
       "\n",
       "[2 rows x 54 columns]"
      ]
     },
     "execution_count": 3,
     "metadata": {},
     "output_type": "execute_result"
    }
   ],
   "source": [
    "df.head(2)"
   ]
  },
  {
   "cell_type": "code",
   "execution_count": 4,
   "id": "6f80b834",
   "metadata": {
    "execution": {
     "iopub.execute_input": "2025-10-13T17:06:24.711351Z",
     "iopub.status.busy": "2025-10-13T17:06:24.711026Z",
     "iopub.status.idle": "2025-10-13T17:06:24.715841Z",
     "shell.execute_reply": "2025-10-13T17:06:24.714962Z"
    },
    "papermill": {
     "duration": 0.010652,
     "end_time": "2025-10-13T17:06:24.717330",
     "exception": false,
     "start_time": "2025-10-13T17:06:24.706678",
     "status": "completed"
    },
    "tags": []
   },
   "outputs": [],
   "source": [
    "# Select only the relevant columns\n",
    "features = [\n",
    "    'Age', 'Gender', 'BMI', 'Fat_Percentage',\n",
    "    'Workout_Frequency (days/week)', 'Physical exercise',\n",
    "    'Water_Intake (liters)', 'Daily meals frequency'\n",
    "]\n"
   ]
  },
  {
   "cell_type": "markdown",
   "id": "b1557878",
   "metadata": {
    "papermill": {
     "duration": 0.003153,
     "end_time": "2025-10-13T17:06:24.724108",
     "exception": false,
     "start_time": "2025-10-13T17:06:24.720955",
     "status": "completed"
    },
    "tags": []
   },
   "source": [
    "## 🧩 Define Lifestyle Score (0–10)"
   ]
  },
  {
   "cell_type": "code",
   "execution_count": 5,
   "id": "29bf1d91",
   "metadata": {
    "execution": {
     "iopub.execute_input": "2025-10-13T17:06:24.733923Z",
     "iopub.status.busy": "2025-10-13T17:06:24.733046Z",
     "iopub.status.idle": "2025-10-13T17:06:24.831444Z",
     "shell.execute_reply": "2025-10-13T17:06:24.830485Z"
    },
    "papermill": {
     "duration": 0.105365,
     "end_time": "2025-10-13T17:06:24.833012",
     "exception": false,
     "start_time": "2025-10-13T17:06:24.727647",
     "status": "completed"
    },
    "tags": []
   },
   "outputs": [],
   "source": [
    "def health_recommendation_system(user):\n",
    "    recommendations = []\n",
    "    score = 0  # out of 10\n",
    "    \n",
    "    # 🎯 BMI Analysis\n",
    "    if user['BMI'] < 18.5:\n",
    "        recommendations.append(\"🍽️ Increase calorie intake with balanced protein meals (underweight).\")\n",
    "        score += 6\n",
    "    elif user['BMI'] <= 24.9:\n",
    "        recommendations.append(\"✅ Your BMI is in a healthy range — maintain your current diet and activity.\")\n",
    "        score += 9\n",
    "    elif user['BMI'] >= 30.0:\n",
    "        recommendations.append(\"⚠️ Slightly overweight — focus on moderate cardio and portion control.\")\n",
    "        score += 7\n",
    "    else:\n",
    "        recommendations.append(\"🔥 High BMI — increase cardio sessions and reduce high-fat/sugar meals.\")\n",
    "        score += 5\n",
    "    \n",
    "    # 💧 Water Intake\n",
    "    if user['Water_Intake (liters)'] < 1.5:\n",
    "        recommendations.append(\"💧 Increase water intake to at least 2.5 liters per day.\")\n",
    "        score += 5\n",
    "    elif user['Water_Intake (liters)'] < 2.5:\n",
    "        recommendations.append(\"🥤 Drink slightly more water, aim for 2.5L daily.\")\n",
    "        score += 7\n",
    "    else:\n",
    "        recommendations.append(\"💧 Excellent hydration habits!\")\n",
    "        score += 9\n",
    "    \n",
    "    # 🏋️ Workout Frequency\n",
    "    if user['Workout_Frequency (days/week)'] < 2:\n",
    "        recommendations.append(\"🚶‍♂️ Start exercising at least 3 times a week.\")\n",
    "        score += 5\n",
    "    elif user['Workout_Frequency (days/week)'] < 4:\n",
    "        recommendations.append(\"💪 Good activity level, try to increase intensity gradually.\")\n",
    "        score += 8\n",
    "    else:\n",
    "        recommendations.append(\"🔥 Great consistency! Maintain your routine.\")\n",
    "        score += 10\n",
    "\n",
    "    # 🧠 Physical Exercise Type\n",
    "    if \"cardio\" in str(user['Physical exercise']).lower():\n",
    "        recommendations.append(\"❤️ Excellent — cardio improves heart and stamina.\")\n",
    "        score += 9\n",
    "    elif \"strength\" in str(user['Physical exercise']).lower():\n",
    "        recommendations.append(\"🏋️ Strength training builds long-term metabolism — keep it up!\")\n",
    "        score += 9\n",
    "    else:\n",
    "        recommendations.append(\"🧘 Add variety — mix cardio, flexibility, and strength workouts.\")\n",
    "        score += 7\n",
    "\n",
    "    # 🍱 Meal Frequency\n",
    "    meals = user['Daily meals frequency']\n",
    "    if meals < 3:\n",
    "        recommendations.append(\"🍎 Increase to 3–5 balanced meals daily to stabilize metabolism.\")\n",
    "        score += 6\n",
    "    elif meals <= 5:\n",
    "        recommendations.append(\"🥗 Perfect meal frequency — keep meals balanced with proteins and veggies.\")\n",
    "        score += 9\n",
    "    else:\n",
    "        recommendations.append(\" Too frequent meals — may increase caloric load, try to space them out.\")\n",
    "        score += 6\n",
    "\n",
    "    # 🧾 Final Lifestyle Score\n",
    "    lifestyle_score = round(score / 5, 2)\n",
    "    recommendations.append(f\" Estimated Lifestyle Score: {lifestyle_score}/10\")\n",
    "\n",
    "    # 🧭 Summary Recommendation\n",
    "    if lifestyle_score >= 8:\n",
    "        recommendations.append(\"🌟 You’re maintaining a healthy lifestyle! Continue consistency.\")\n",
    "    elif lifestyle_score >= 6:\n",
    "        recommendations.append(\"Good progress! Focus on minor improvements in hydration or exercise.\")\n",
    "    else:\n",
    "        recommendations.append(\" Needs attention — adjust nutrition, water, and activity levels.\")\n",
    "\n",
    "    return recommendations ,lifestyle_score\n"
   ]
  },
  {
   "cell_type": "code",
   "execution_count": 6,
   "id": "88382c62",
   "metadata": {
    "execution": {
     "iopub.execute_input": "2025-10-13T17:06:24.841575Z",
     "iopub.status.busy": "2025-10-13T17:06:24.841229Z",
     "iopub.status.idle": "2025-10-13T17:06:24.848575Z",
     "shell.execute_reply": "2025-10-13T17:06:24.847481Z"
    },
    "papermill": {
     "duration": 0.013279,
     "end_time": "2025-10-13T17:06:24.849939",
     "exception": false,
     "start_time": "2025-10-13T17:06:24.836660",
     "status": "completed"
    },
    "tags": []
   },
   "outputs": [],
   "source": [
    "def visualize_health_profile(user, lifestyle_score):\n",
    "    categories = ['BMI', 'Water Intake', 'Workout Frequency', 'Meal Frequency']\n",
    "    values = [\n",
    "        np.clip((25 - abs(user['BMI'] - 22)) / 25 * 10, 0, 10),  # ideal BMI ~22\n",
    "        np.clip(user['Water_Intake (liters)'] / 2.5 * 10, 0, 10), # ideal water 2.5L\n",
    "        np.clip(user['Workout_Frequency (days/week)'] / 5 * 10, 0, 10), # ideal 4-5 days\n",
    "        np.clip(user['Daily meals frequency'] / 4 * 10, 0, 10) # ideal 3-5 meals\n",
    "    ]\n",
    "\n",
    "    plt.figure(figsize=(8, 5))\n",
    "    bars = plt.bar(categories, values, color=['#66b3ff', '#99ff99', '#ffcc99', '#ff9999'])\n",
    "    plt.ylim(0, 10)\n",
    "    plt.title(f'🏋️‍♀️ Health Profile Score (Lifestyle = {lifestyle_score}/10)', fontsize=14, fontweight='bold')\n",
    "    plt.ylabel(\"Health Level (0–10)\")\n",
    "    plt.grid(axis='y', linestyle='--', alpha=0.7)\n",
    "\n",
    "    # Annotate bars\n",
    "    for bar, val in zip(bars, values):\n",
    "        plt.text(bar.get_x() + bar.get_width() / 2, val + 0.3, f'{val:.1f}', ha='center', fontsize=10)\n",
    "\n",
    "    plt.show()\n"
   ]
  },
  {
   "cell_type": "markdown",
   "id": "21663bcf",
   "metadata": {
    "papermill": {
     "duration": 0.004606,
     "end_time": "2025-10-13T17:06:24.858126",
     "exception": false,
     "start_time": "2025-10-13T17:06:24.853520",
     "status": "completed"
    },
    "tags": []
   },
   "source": [
    "## Test the system"
   ]
  },
  {
   "cell_type": "code",
   "execution_count": 7,
   "id": "b08a374e",
   "metadata": {
    "execution": {
     "iopub.execute_input": "2025-10-13T17:06:24.866190Z",
     "iopub.status.busy": "2025-10-13T17:06:24.865881Z",
     "iopub.status.idle": "2025-10-13T17:06:24.872699Z",
     "shell.execute_reply": "2025-10-13T17:06:24.871194Z"
    },
    "papermill": {
     "duration": 0.012991,
     "end_time": "2025-10-13T17:06:24.874634",
     "exception": false,
     "start_time": "2025-10-13T17:06:24.861643",
     "status": "completed"
    },
    "tags": []
   },
   "outputs": [
    {
     "name": "stdout",
     "output_type": "stream",
     "text": [
      "💡 Personalized Health Recommendations:\n",
      "\n",
      "- 🔥 High BMI — increase cardio sessions and reduce high-fat/sugar meals.\n",
      "- 💧 Increase water intake to at least 2.5 liters per day.\n",
      "- 💪 Good activity level, try to increase intensity gradually.\n",
      "- ❤️ Excellent — cardio improves heart and stamina.\n",
      "- 🍎 Increase to 3–5 balanced meals daily to stabilize metabolism.\n",
      "-  Estimated Lifestyle Score: 6.6/10\n",
      "- Good progress! Focus on minor improvements in hydration or exercise.\n"
     ]
    }
   ],
   "source": [
    "# Example user data\n",
    "user = {\n",
    "    'Age': 28,\n",
    "    'Gender': 'Male',\n",
    "    'BMI': 27.5,\n",
    "    'Fat_Percentage': 22,\n",
    "    'Workout_Frequency (days/week)': 2,\n",
    "    'Physical exercise': 'Cardio & Stretching',\n",
    "    'Water_Intake (liters)': 1.4,\n",
    "    'Daily meals frequency': 2\n",
    "}\n",
    "\n",
    "recommendations, lifestyle_score = health_recommendation_system(user)\n",
    "\n",
    "print(\"💡 Personalized Health Recommendations:\\n\")\n",
    "for rec in recommendations:\n",
    "    print(\"-\", rec)\n"
   ]
  },
  {
   "cell_type": "code",
   "execution_count": 8,
   "id": "700fc580",
   "metadata": {
    "execution": {
     "iopub.execute_input": "2025-10-13T17:06:24.883867Z",
     "iopub.status.busy": "2025-10-13T17:06:24.883545Z",
     "iopub.status.idle": "2025-10-13T17:06:25.144260Z",
     "shell.execute_reply": "2025-10-13T17:06:25.143240Z"
    },
    "papermill": {
     "duration": 0.26748,
     "end_time": "2025-10-13T17:06:25.145753",
     "exception": false,
     "start_time": "2025-10-13T17:06:24.878273",
     "status": "completed"
    },
    "tags": []
   },
   "outputs": [
    {
     "name": "stderr",
     "output_type": "stream",
     "text": [
      "/usr/local/lib/python3.11/dist-packages/IPython/core/pylabtools.py:151: UserWarning: Glyph 127947 (\\N{WEIGHT LIFTER}) missing from current font.\n",
      "  fig.canvas.print_figure(bytes_io, **kw)\n"
     ]
    },
    {
     "data": {
      "image/png": "[encoded data removed]",
      "text/plain": [
       "<Figure size 800x500 with 1 Axes>"
      ]
     },
     "metadata": {},
     "output_type": "display_data"
    }
   ],
   "source": [
    "# Show visualization\n",
    "visualize_health_profile(user, lifestyle_score)\n"
   ]
  },
  {
   "cell_type": "markdown",
   "id": "61f898ea",
   "metadata": {
    "papermill": {
     "duration": 0.004174,
     "end_time": "2025-10-13T17:06:25.154371",
     "exception": false,
     "start_time": "2025-10-13T17:06:25.150197",
     "status": "completed"
    },
    "tags": []
   },
   "source": [
    "## Save the model"
   ]
  },
  {
   "cell_type": "code",
   "execution_count": 9,
   "id": "6f86393c",
   "metadata": {
    "execution": {
     "iopub.execute_input": "2025-10-13T17:06:25.164128Z",
     "iopub.status.busy": "2025-10-13T17:06:25.163817Z",
     "iopub.status.idle": "2025-10-13T17:06:25.169324Z",
     "shell.execute_reply": "2025-10-13T17:06:25.168451Z"
    },
    "papermill": {
     "duration": 0.012136,
     "end_time": "2025-10-13T17:06:25.170830",
     "exception": false,
     "start_time": "2025-10-13T17:06:25.158694",
     "status": "completed"
    },
    "tags": []
   },
   "outputs": [
    {
     "name": "stdout",
     "output_type": "stream",
     "text": [
      "\n",
      "✅ Model saved as health_lifestyle_recommender.pkl\n"
     ]
    }
   ],
   "source": [
    "# Save model for deployment\n",
    "joblib.dump(health_recommendation_system, 'health_lifestyle_recommender.pkl')\n",
    "print(\"\\n✅ Model saved as health_lifestyle_recommender.pkl\")\n"
   ]
  }
 ],
 "metadata": {
  "kaggle": {
   "accelerator": "none",
   "dataSources": [
    {
     "datasetId": 8436570,
     "sourceId": 13359713,
     "sourceType": "datasetVersion"
    }
   ],
   "dockerImageVersionId": 31153,
   "isGpuEnabled": false,
   "isInternetEnabled": true,
   "language": "python",
   "sourceType": "notebook"
  },
  "kernelspec": {
   "display_name": "Python 3",
   "language": "python",
   "name": "python3"
  },
  "language_info": {
   "codemirror_mode": {
    "name": "ipython",
    "version": 3
   },
   "file_extension": ".py",
   "mimetype": "text/x-python",
   "name": "python",
   "nbconvert_exporter": "python",
   "pygments_lexer": "ipython3",
   "version": "3.11.13"
  },
  "papermill": {
   "default_parameters": {},
   "duration": 10.966538,
   "end_time": "2025-10-13T17:06:25.895344",
   "environment_variables": {},
   "exception": null,
   "input_path": "__notebook__.ipynb",
   "output_path": "__notebook__.ipynb",
   "parameters": {},
   "start_time": "2025-10-13T17:06:14.928806",
   "version": "2.6.0"
  }
 },
 "nbformat": 4,
 "nbformat_minor": 5
}
