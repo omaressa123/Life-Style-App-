{
 "cells": [
  {
   "cell_type": "code",
   "execution_count": 1,
   "id": "b4b0b4fe",
   "metadata": {
    "_cell_guid": "b1076dfc-b9ad-4769-8c92-a6c4dae69d19",
    "_uuid": "8f2839f25d086af736a60e9eeb907d3b93b6e0e5",
    "execution": {
     "iopub.execute_input": "2025-10-14T13:48:59.937805Z",
     "iopub.status.busy": "2025-10-14T13:48:59.937391Z",
     "iopub.status.idle": "2025-10-14T13:49:03.362312Z",
     "shell.execute_reply": "2025-10-14T13:49:03.361188Z"
    },
    "papermill": {
     "duration": 3.433434,
     "end_time": "2025-10-14T13:49:03.364233",
     "exception": false,
     "start_time": "2025-10-14T13:48:59.930799",
     "status": "completed"
    },
    "tags": []
   },
   "outputs": [
    {
     "name": "stdout",
     "output_type": "stream",
     "text": [
      "/kaggle/input/life-style-data/Final_data.csv\n",
      "/kaggle/input/life-style-data/expanded_fitness_data.csv\n"
     ]
    }
   ],
   "source": [
    "import os\n",
    "import joblib\n",
    "import warnings\n",
    "\n",
    "import numpy as np # linear algebra\n",
    "import pandas as pd # data processing,\n",
    "import matplotlib.pyplot as plt\n",
    "from sklearn.metrics.pairwise import cosine_similarity\n",
    "from sklearn.preprocessing import StandardScaler\n",
    "\n",
    "\n",
    "for dirname, _, filenames in os.walk('/kaggle/input'):\n",
    "    for filename in filenames:\n",
    "        print(os.path.join(dirname, filename))\n",
    "\n"
   ]
  },
  {
   "cell_type": "markdown",
   "id": "ec7536f7",
   "metadata": {
    "papermill": {
     "duration": 0.004914,
     "end_time": "2025-10-14T13:49:03.375692",
     "exception": false,
     "start_time": "2025-10-14T13:49:03.370778",
     "status": "completed"
    },
    "tags": []
   },
   "source": [
    "## Read Data File"
   ]
  },
  {
   "cell_type": "code",
   "execution_count": 2,
   "id": "9edc2da6",
   "metadata": {
    "execution": {
     "iopub.execute_input": "2025-10-14T13:49:03.386361Z",
     "iopub.status.busy": "2025-10-14T13:49:03.385907Z",
     "iopub.status.idle": "2025-10-14T13:49:03.815173Z",
     "shell.execute_reply": "2025-10-14T13:49:03.814281Z"
    },
    "papermill": {
     "duration": 0.436261,
     "end_time": "2025-10-14T13:49:03.816578",
     "exception": false,
     "start_time": "2025-10-14T13:49:03.380317",
     "status": "completed"
    },
    "tags": []
   },
   "outputs": [
    {
     "data": {
      "text/plain": [
       "Index(['Age', 'Gender', 'Weight (kg)', 'Height (m)', 'Max_BPM', 'Avg_BPM',\n",
       "       'Resting_BPM', 'Session_Duration (hours)', 'Calories_Burned',\n",
       "       'Workout_Type', 'Fat_Percentage', 'Water_Intake (liters)',\n",
       "       'Workout_Frequency (days/week)', 'Experience_Level', 'BMI',\n",
       "       'Daily meals frequency', 'Physical exercise', 'Carbs', 'Proteins',\n",
       "       'Fats', 'Calories', 'meal_name', 'meal_type', 'diet_type', 'sugar_g',\n",
       "       'sodium_mg', 'cholesterol_mg', 'serving_size_g', 'cooking_method',\n",
       "       'prep_time_min', 'cook_time_min', 'rating', 'Name of Exercise', 'Sets',\n",
       "       'Reps', 'Benefit', 'Burns Calories (per 30 min)', 'Target Muscle Group',\n",
       "       'Equipment Needed', 'Difficulty Level', 'Body Part', 'Type of Muscle',\n",
       "       'Workout', 'BMI_calc', 'cal_from_macros', 'pct_carbs', 'protein_per_kg',\n",
       "       'pct_HRR', 'pct_maxHR', 'cal_balance', 'lean_mass_kg', 'expected_burn',\n",
       "       'Burns Calories (per 30 min)_bc', 'Burns_Calories_Bin'],\n",
       "      dtype='object')"
      ]
     },
     "execution_count": 2,
     "metadata": {},
     "output_type": "execute_result"
    }
   ],
   "source": [
    "df=pd.read_csv(\"/kaggle/input/life-style-data/Final_data.csv\")\n",
    "df.columns "
   ]
  },
  {
   "cell_type": "code",
   "execution_count": 3,
   "id": "69927e96",
   "metadata": {
    "execution": {
     "iopub.execute_input": "2025-10-14T13:49:03.827654Z",
     "iopub.status.busy": "2025-10-14T13:49:03.827230Z",
     "iopub.status.idle": "2025-10-14T13:49:03.863330Z",
     "shell.execute_reply": "2025-10-14T13:49:03.862376Z"
    },
    "papermill": {
     "duration": 0.043542,
     "end_time": "2025-10-14T13:49:03.864983",
     "exception": false,
     "start_time": "2025-10-14T13:49:03.821441",
     "status": "completed"
    },
    "tags": []
   },
   "outputs": [
    {
     "data": {
      "text/html": [
       "<div>\n",
       "<style scoped>\n",
       "    .dataframe tbody tr th:only-of-type {\n",
       "        vertical-align: middle;\n",
       "    }\n",
       "\n",
       "    .dataframe tbody tr th {\n",
       "        vertical-align: top;\n",
       "    }\n",
       "\n",
       "    .dataframe thead th {\n",
       "        text-align: right;\n",
       "    }\n",
       "</style>\n",
       "<table border=\"1\" class=\"dataframe\">\n",
       "  <thead>\n",
       "    <tr style=\"text-align: right;\">\n",
       "      <th></th>\n",
       "      <th>Age</th>\n",
       "      <th>Gender</th>\n",
       "      <th>Weight (kg)</th>\n",
       "      <th>Height (m)</th>\n",
       "      <th>Max_BPM</th>\n",
       "      <th>Avg_BPM</th>\n",
       "      <th>Resting_BPM</th>\n",
       "      <th>Session_Duration (hours)</th>\n",
       "      <th>Calories_Burned</th>\n",
       "      <th>Workout_Type</th>\n",
       "      <th>...</th>\n",
       "      <th>cal_from_macros</th>\n",
       "      <th>pct_carbs</th>\n",
       "      <th>protein_per_kg</th>\n",
       "      <th>pct_HRR</th>\n",
       "      <th>pct_maxHR</th>\n",
       "      <th>cal_balance</th>\n",
       "      <th>lean_mass_kg</th>\n",
       "      <th>expected_burn</th>\n",
       "      <th>Burns Calories (per 30 min)_bc</th>\n",
       "      <th>Burns_Calories_Bin</th>\n",
       "    </tr>\n",
       "  </thead>\n",
       "  <tbody>\n",
       "    <tr>\n",
       "      <th>17107</th>\n",
       "      <td>44.0</td>\n",
       "      <td>Female</td>\n",
       "      <td>59.31</td>\n",
       "      <td>1.52</td>\n",
       "      <td>177.0</td>\n",
       "      <td>135.85</td>\n",
       "      <td>55.9</td>\n",
       "      <td>1.58</td>\n",
       "      <td>1851.44</td>\n",
       "      <td>Strength</td>\n",
       "      <td>...</td>\n",
       "      <td>3181.41</td>\n",
       "      <td>0.499753</td>\n",
       "      <td>2.676109</td>\n",
       "      <td>0.660198</td>\n",
       "      <td>0.767514</td>\n",
       "      <td>-121.44</td>\n",
       "      <td>43.826108</td>\n",
       "      <td>1098.4476</td>\n",
       "      <td>8.178388e+19</td>\n",
       "      <td>Medium</td>\n",
       "    </tr>\n",
       "  </tbody>\n",
       "</table>\n",
       "<p>1 rows × 54 columns</p>\n",
       "</div>"
      ],
      "text/plain": [
       "        Age  Gender  Weight (kg)  Height (m)  Max_BPM  Avg_BPM  Resting_BPM  \\\n",
       "17107  44.0  Female        59.31        1.52    177.0   135.85         55.9   \n",
       "\n",
       "       Session_Duration (hours)  Calories_Burned Workout_Type  ...  \\\n",
       "17107                      1.58          1851.44     Strength  ...   \n",
       "\n",
       "       cal_from_macros  pct_carbs  protein_per_kg   pct_HRR  pct_maxHR  \\\n",
       "17107          3181.41   0.499753        2.676109  0.660198   0.767514   \n",
       "\n",
       "       cal_balance  lean_mass_kg  expected_burn  \\\n",
       "17107      -121.44     43.826108      1098.4476   \n",
       "\n",
       "       Burns Calories (per 30 min)_bc  Burns_Calories_Bin  \n",
       "17107                    8.178388e+19              Medium  \n",
       "\n",
       "[1 rows x 54 columns]"
      ]
     },
     "execution_count": 3,
     "metadata": {},
     "output_type": "execute_result"
    }
   ],
   "source": [
    "df.sample()"
   ]
  },
  {
   "cell_type": "markdown",
   "id": "8bf3a4bc",
   "metadata": {
    "papermill": {
     "duration": 0.00466,
     "end_time": "2025-10-14T13:49:03.874910",
     "exception": false,
     "start_time": "2025-10-14T13:49:03.870250",
     "status": "completed"
    },
    "tags": []
   },
   "source": [
    "## Take Some Features"
   ]
  },
  {
   "cell_type": "code",
   "execution_count": 4,
   "id": "4e448139",
   "metadata": {
    "execution": {
     "iopub.execute_input": "2025-10-14T13:49:03.886055Z",
     "iopub.status.busy": "2025-10-14T13:49:03.885753Z",
     "iopub.status.idle": "2025-10-14T13:49:03.918354Z",
     "shell.execute_reply": "2025-10-14T13:49:03.917438Z"
    },
    "papermill": {
     "duration": 0.040073,
     "end_time": "2025-10-14T13:49:03.920010",
     "exception": false,
     "start_time": "2025-10-14T13:49:03.879937",
     "status": "completed"
    },
    "tags": []
   },
   "outputs": [],
   "source": [
    "# Keep relevant columns\n",
    "meal_cols = [\n",
    "    'meal_name', 'meal_type', 'diet_type', 'Calories', 'Proteins', 'Carbs', 'Fats',\n",
    "    'cooking_method', 'rating', 'prep_time_min', 'cook_time_min'\n",
    "]\n",
    "df_meals = df[meal_cols].dropna().drop_duplicates().reset_index(drop=True)\n"
   ]
  },
  {
   "cell_type": "markdown",
   "id": "2e244dbd",
   "metadata": {
    "papermill": {
     "duration": 0.004557,
     "end_time": "2025-10-14T13:49:03.929496",
     "exception": false,
     "start_time": "2025-10-14T13:49:03.924939",
     "status": "completed"
    },
    "tags": []
   },
   "source": [
    "## Preprocess"
   ]
  },
  {
   "cell_type": "code",
   "execution_count": 5,
   "id": "e177bf8a",
   "metadata": {
    "execution": {
     "iopub.execute_input": "2025-10-14T13:49:03.940549Z",
     "iopub.status.busy": "2025-10-14T13:49:03.939932Z",
     "iopub.status.idle": "2025-10-14T13:49:03.948636Z",
     "shell.execute_reply": "2025-10-14T13:49:03.947738Z"
    },
    "papermill": {
     "duration": 0.015781,
     "end_time": "2025-10-14T13:49:03.950055",
     "exception": false,
     "start_time": "2025-10-14T13:49:03.934274",
     "status": "completed"
    },
    "tags": []
   },
   "outputs": [],
   "source": [
    "# Normalize macros for fair comparison\n",
    "df_meals['Calories_norm'] = df_meals['Calories'] / df_meals['Calories'].max()\n",
    "df_meals['Proteins_norm'] = df_meals['Proteins'] / df_meals['Proteins'].max()\n",
    "df_meals['Carbs_norm'] = df_meals['Carbs'] / df_meals['Carbs'].max()\n",
    "df_meals['Fats_norm'] = df_meals['Fats'] / df_meals['Fats'].max()\n"
   ]
  },
  {
   "cell_type": "markdown",
   "id": "4671d641",
   "metadata": {
    "papermill": {
     "duration": 0.004389,
     "end_time": "2025-10-14T13:49:03.959356",
     "exception": false,
     "start_time": "2025-10-14T13:49:03.954967",
     "status": "completed"
    },
    "tags": []
   },
   "source": [
    "## Recommendation Function"
   ]
  },
  {
   "cell_type": "code",
   "execution_count": 6,
   "id": "ddd81c1b",
   "metadata": {
    "execution": {
     "iopub.execute_input": "2025-10-14T13:49:03.969611Z",
     "iopub.status.busy": "2025-10-14T13:49:03.969288Z",
     "iopub.status.idle": "2025-10-14T13:49:03.976231Z",
     "shell.execute_reply": "2025-10-14T13:49:03.975520Z"
    },
    "papermill": {
     "duration": 0.013587,
     "end_time": "2025-10-14T13:49:03.977427",
     "exception": false,
     "start_time": "2025-10-14T13:49:03.963840",
     "status": "completed"
    },
    "tags": []
   },
   "outputs": [],
   "source": [
    "def recommend_meals(user_bmi, target_calories, diet_type=None, meal_type=None, n=5):\n",
    "    \"\"\"\n",
    "    Recommend meals based on nutritional similarity to target macros & calories.\n",
    "    \"\"\"\n",
    "    # Target profile (user preference)\n",
    "    target = pd.DataFrame({\n",
    "        'Calories_norm': [target_calories / df_meals['Calories'].max()],\n",
    "        'Proteins_norm': [0.5],   # target 50% protein\n",
    "        'Carbs_norm': [0.3],      # 30% carbs\n",
    "        'Fats_norm': [0.2]        # 30% fats\n",
    "    })\n",
    "\n",
    "    # Compute cosine similarity between meals and target\n",
    "    meal_features = df_meals[['Calories_norm', 'Proteins_norm', 'Carbs_norm', 'Fats_norm']]\n",
    "    similarity = cosine_similarity(meal_features, target)\n",
    "    df_meals['similarity'] = similarity\n",
    "\n",
    "    # Apply filters if provided\n",
    "    filtered = df_meals.copy()\n",
    "    if diet_type:\n",
    "        filtered = filtered[filtered['diet_type'].str.contains(diet_type, case=False, na=False)]\n",
    "    if meal_type:\n",
    "        filtered = filtered[filtered['meal_type'].str.contains(meal_type, case=False, na=False)]\n",
    "\n",
    "    # Sort by similarity\n",
    "    recs = filtered.sort_values(by='similarity', ascending=False).head(n)\n",
    "\n",
    "    return recs[['meal_name', 'meal_type', 'diet_type', 'Calories', 'Proteins', 'Carbs', 'Fats',\n",
    "                 'cooking_method', 'rating', 'prep_time_min', 'cook_time_min']]"
   ]
  },
  {
   "cell_type": "markdown",
   "id": "0504ff48",
   "metadata": {
    "papermill": {
     "duration": 0.004571,
     "end_time": "2025-10-14T13:49:03.986928",
     "exception": false,
     "start_time": "2025-10-14T13:49:03.982357",
     "status": "completed"
    },
    "tags": []
   },
   "source": [
    "## Call Function"
   ]
  },
  {
   "cell_type": "code",
   "execution_count": 7,
   "id": "308dbc5d",
   "metadata": {
    "execution": {
     "iopub.execute_input": "2025-10-14T13:49:03.997391Z",
     "iopub.status.busy": "2025-10-14T13:49:03.997083Z",
     "iopub.status.idle": "2025-10-14T13:49:04.042530Z",
     "shell.execute_reply": "2025-10-14T13:49:04.041496Z"
    },
    "papermill": {
     "duration": 0.052635,
     "end_time": "2025-10-14T13:49:04.044170",
     "exception": false,
     "start_time": "2025-10-14T13:49:03.991535",
     "status": "completed"
    },
    "tags": []
   },
   "outputs": [
    {
     "name": "stdout",
     "output_type": "stream",
     "text": [
      "🍽️ Recommended Meals:\n",
      "      meal_name meal_type diet_type  Calories  Proteins   Carbs    Fats  \\\n",
      "6293      Other     Lunch  Balanced    1182.0    133.88  333.59   88.63   \n",
      "18693     Other     Lunch  Balanced    1423.0    155.51  389.85  102.92   \n",
      "5487      Other     Lunch  Balanced    1222.0    127.63  318.95   84.25   \n",
      "1370      Other     Lunch  Balanced     970.0    124.09  309.34   82.73   \n",
      "2776      Other     Lunch  Balanced    1296.0    139.79  349.94   92.83   \n",
      "\n",
      "      cooking_method  rating  prep_time_min  cook_time_min  \n",
      "6293           Fried    4.32          55.54          86.42  \n",
      "18693        Roasted    2.19          39.06          38.36  \n",
      "5487           Fried    3.27           9.78         101.43  \n",
      "1370           Baked    4.61          20.16         105.22  \n",
      "2776          Boiled    2.37          24.94          12.92  \n"
     ]
    }
   ],
   "source": [
    "recommendations = recommend_meals(\n",
    "    user_bmi=27, \n",
    "    target_calories=500, \n",
    "    diet_type=\"Balanced\", \n",
    "    meal_type=\"Lunch\", \n",
    "    n=5\n",
    ")\n",
    "\n",
    "print(\"🍽️ Recommended Meals:\")\n",
    "print(recommendations)"
   ]
  },
  {
   "cell_type": "code",
   "execution_count": 8,
   "id": "3f5c5ec2",
   "metadata": {
    "execution": {
     "iopub.execute_input": "2025-10-14T13:49:04.056058Z",
     "iopub.status.busy": "2025-10-14T13:49:04.055193Z",
     "iopub.status.idle": "2025-10-14T13:49:04.357006Z",
     "shell.execute_reply": "2025-10-14T13:49:04.355992Z"
    },
    "papermill": {
     "duration": 0.309618,
     "end_time": "2025-10-14T13:49:04.358930",
     "exception": false,
     "start_time": "2025-10-14T13:49:04.049312",
     "status": "completed"
    },
    "tags": []
   },
   "outputs": [
    {
     "data": {
      "image/png": "[encoded data removed]",
      "text/plain": [
       "<Figure size 1000x600 with 1 Axes>"
      ]
     },
     "metadata": {},
     "output_type": "display_data"
    }
   ],
   "source": [
    "def visualize_meals(recs):\n",
    "    \"\"\"\n",
    "    Show nutrition comparison across recommended meals.\n",
    "    \"\"\"\n",
    "    nutrients = ['Calories', 'Proteins', 'Carbs', 'Fats']\n",
    "    plt.figure(figsize=(10,6))\n",
    "    for _, row in recs.iterrows():\n",
    "        plt.plot(nutrients, [row[n] for n in nutrients], marker='o', label=row['meal_name'])\n",
    "\n",
    "    plt.title('Nutrition Comparison of Recommended Meals', fontsize=14)\n",
    "    plt.xlabel('Nutrients')\n",
    "    plt.ylabel('Amount')\n",
    "    plt.legend()\n",
    "    plt.grid(True)\n",
    "    plt.show()\n",
    "\n",
    "visualize_meals(recommendations)"
   ]
  },
  {
   "cell_type": "markdown",
   "id": "4800a40e",
   "metadata": {
    "papermill": {
     "duration": 0.006264,
     "end_time": "2025-10-14T13:49:04.372311",
     "exception": false,
     "start_time": "2025-10-14T13:49:04.366047",
     "status": "completed"
    },
    "tags": []
   },
   "source": [
    "## The problem handling"
   ]
  },
  {
   "cell_type": "code",
   "execution_count": 9,
   "id": "2e3dcecc",
   "metadata": {
    "execution": {
     "iopub.execute_input": "2025-10-14T13:49:04.386820Z",
     "iopub.status.busy": "2025-10-14T13:49:04.386423Z",
     "iopub.status.idle": "2025-10-14T13:49:04.394517Z",
     "shell.execute_reply": "2025-10-14T13:49:04.393649Z"
    },
    "papermill": {
     "duration": 0.017089,
     "end_time": "2025-10-14T13:49:04.396028",
     "exception": false,
     "start_time": "2025-10-14T13:49:04.378939",
     "status": "completed"
    },
    "tags": []
   },
   "outputs": [
    {
     "data": {
      "text/plain": [
       "0        Other\n",
       "1        Other\n",
       "2        Other\n",
       "3        Other\n",
       "4        Other\n",
       "         ...  \n",
       "19995    Other\n",
       "19996    Other\n",
       "19997    Other\n",
       "19998    Other\n",
       "19999    Other\n",
       "Name: meal_name, Length: 20000, dtype: object"
      ]
     },
     "execution_count": 9,
     "metadata": {},
     "output_type": "execute_result"
    }
   ],
   "source": [
    "df['meal_name']"
   ]
  },
  {
   "cell_type": "code",
   "execution_count": 10,
   "id": "380f62e2",
   "metadata": {
    "execution": {
     "iopub.execute_input": "2025-10-14T13:49:04.410369Z",
     "iopub.status.busy": "2025-10-14T13:49:04.410070Z",
     "iopub.status.idle": "2025-10-14T13:49:04.438994Z",
     "shell.execute_reply": "2025-10-14T13:49:04.437928Z"
    },
    "papermill": {
     "duration": 0.037769,
     "end_time": "2025-10-14T13:49:04.440447",
     "exception": false,
     "start_time": "2025-10-14T13:49:04.402678",
     "status": "completed"
    },
    "tags": []
   },
   "outputs": [],
   "source": [
    "df['meal_name'] = (\n",
    "    df['cooking_method'].fillna('Unknown').astype(str) + \" \" +\n",
    "    df['diet_type'].fillna('Balanced').astype(str) + \" \" +\n",
    "    df['meal_type'].fillna('Meal').astype(str)\n",
    ").str.title()\n"
   ]
  },
  {
   "cell_type": "code",
   "execution_count": 11,
   "id": "750ef7ee",
   "metadata": {
    "execution": {
     "iopub.execute_input": "2025-10-14T13:49:04.455181Z",
     "iopub.status.busy": "2025-10-14T13:49:04.454882Z",
     "iopub.status.idle": "2025-10-14T13:49:04.460396Z",
     "shell.execute_reply": "2025-10-14T13:49:04.459666Z"
    },
    "papermill": {
     "duration": 0.014202,
     "end_time": "2025-10-14T13:49:04.461700",
     "exception": false,
     "start_time": "2025-10-14T13:49:04.447498",
     "status": "completed"
    },
    "tags": []
   },
   "outputs": [
    {
     "name": "stdout",
     "output_type": "stream",
     "text": [
      "0       Grilled Vegan Lunch\n",
      "1    Fried Vegetarian Lunch\n",
      "2    Boiled Paleo Breakfast\n",
      "3         Fried Paleo Lunch\n",
      "4     Baked Vegan Breakfast\n",
      "Name: meal_name, dtype: object\n"
     ]
    }
   ],
   "source": [
    "print(df['meal_name'].head())\n"
   ]
  },
  {
   "cell_type": "markdown",
   "id": "4ccae34d",
   "metadata": {
    "papermill": {
     "duration": 0.006642,
     "end_time": "2025-10-14T13:49:04.475034",
     "exception": false,
     "start_time": "2025-10-14T13:49:04.468392",
     "status": "completed"
    },
    "tags": []
   },
   "source": [
    "## New version after handling logical error "
   ]
  },
  {
   "cell_type": "code",
   "execution_count": 12,
   "id": "158a9fb7",
   "metadata": {
    "execution": {
     "iopub.execute_input": "2025-10-14T13:49:04.490221Z",
     "iopub.status.busy": "2025-10-14T13:49:04.489929Z",
     "iopub.status.idle": "2025-10-14T13:49:04.533222Z",
     "shell.execute_reply": "2025-10-14T13:49:04.532081Z"
    },
    "papermill": {
     "duration": 0.052582,
     "end_time": "2025-10-14T13:49:04.534897",
     "exception": false,
     "start_time": "2025-10-14T13:49:04.482315",
     "status": "completed"
    },
    "tags": []
   },
   "outputs": [],
   "source": [
    "# Ensure meaningful meal names (your version)\n",
    "df['meal_name'] = (\n",
    "    df['cooking_method'].fillna('Unknown').astype(str) + \" \" +\n",
    "    df['diet_type'].fillna('Balanced').astype(str) + \" \" +\n",
    "    df['meal_type'].fillna('Meal').astype(str)\n",
    ").str.title()\n",
    "\n",
    "# Drop duplicates and missing values\n",
    "df = df.dropna(subset=['Calories', 'Proteins', 'Carbs', 'Fats'])\n",
    "df = df.drop_duplicates(subset=['meal_name'])"
   ]
  },
  {
   "cell_type": "markdown",
   "id": "a74fc5f5",
   "metadata": {
    "papermill": {
     "duration": 0.006659,
     "end_time": "2025-10-14T13:49:04.548408",
     "exception": false,
     "start_time": "2025-10-14T13:49:04.541749",
     "status": "completed"
    },
    "tags": []
   },
   "source": [
    "## Recommended Function "
   ]
  },
  {
   "cell_type": "code",
   "execution_count": 13,
   "id": "811568e1",
   "metadata": {
    "execution": {
     "iopub.execute_input": "2025-10-14T13:49:04.563279Z",
     "iopub.status.busy": "2025-10-14T13:49:04.562975Z",
     "iopub.status.idle": "2025-10-14T13:49:04.570856Z",
     "shell.execute_reply": "2025-10-14T13:49:04.569895Z"
    },
    "papermill": {
     "duration": 0.017109,
     "end_time": "2025-10-14T13:49:04.572239",
     "exception": false,
     "start_time": "2025-10-14T13:49:04.555130",
     "status": "completed"
    },
    "tags": []
   },
   "outputs": [],
   "source": [
    "def recommend_meal(meal_name, top_n=5):\n",
    "    if meal_name not in df['meal_name'].values:\n",
    "        print(f\"Meal '{meal_name}' not found. Please choose a valid one.\")\n",
    "        return None\n",
    "\n",
    "    # Use nutritional and diet-type features\n",
    "    features = ['Calories', 'Proteins', 'Carbs', 'Fats']\n",
    "    scaler = StandardScaler()\n",
    "    X_scaled = scaler.fit_transform(df[features])\n",
    "\n",
    "    # Compute similarity\n",
    "    sim_matrix = cosine_similarity(X_scaled)\n",
    "\n",
    "    # Get index of the meal\n",
    "    idx = df.index[df['meal_name'] == meal_name][0]\n",
    "\n",
    "    # Sort by similarity\n",
    "    sim_scores = list(enumerate(sim_matrix[idx]))\n",
    "    sim_scores = sorted(sim_scores, key=lambda x: x[1], reverse=True)\n",
    "\n",
    "    # Get top similar meals\n",
    "    top_meals = [i[0] for i in sim_scores[1:top_n+1]]\n",
    "    recommendations = df.iloc[top_meals][['meal_name', 'meal_type', 'diet_type', \n",
    "                                          'Calories', 'Proteins', 'Carbs', 'Fats', \n",
    "                                          'cooking_method']]\n",
    "    \n",
    "    print(f\"\\n🍽️ Recommended Meals similar to: **{meal_name}**\")\n",
    "    return recommendations\n"
   ]
  },
  {
   "cell_type": "code",
   "execution_count": 14,
   "id": "bc6e5ea5",
   "metadata": {
    "execution": {
     "iopub.execute_input": "2025-10-14T13:49:04.586559Z",
     "iopub.status.busy": "2025-10-14T13:49:04.586230Z",
     "iopub.status.idle": "2025-10-14T13:49:04.602158Z",
     "shell.execute_reply": "2025-10-14T13:49:04.601142Z"
    },
    "papermill": {
     "duration": 0.024964,
     "end_time": "2025-10-14T13:49:04.603811",
     "exception": false,
     "start_time": "2025-10-14T13:49:04.578847",
     "status": "completed"
    },
    "tags": []
   },
   "outputs": [
    {
     "name": "stdout",
     "output_type": "stream",
     "text": [
      "\n",
      "🍽️ Recommended Meals similar to: **Fried Paleo Lunch**\n",
      "                      meal_name  meal_type   diet_type  Calories  Proteins  \\\n",
      "463  Steamed Balanced Breakfast  Breakfast    Balanced    2576.0     82.25   \n",
      "211  Baked Vegetarian Breakfast  Breakfast  Vegetarian    2858.0     71.87   \n",
      "11           Grilled Keto Snack      Snack        Keto    2232.0     93.27   \n",
      "165          Raw Balanced Snack      Snack    Balanced    2540.0     80.41   \n",
      "5            Steamed Keto Snack      Snack        Keto    2767.0     67.92   \n",
      "\n",
      "      Carbs   Fats cooking_method  \n",
      "463  206.59  55.03        Steamed  \n",
      "211  180.09  48.24          Baked  \n",
      "11   231.16  61.23        Grilled  \n",
      "165  198.91  53.44            Raw  \n",
      "5    170.86  46.06        Steamed  \n"
     ]
    }
   ],
   "source": [
    "sample_meal = df['meal_name'].iloc[3]  # Example meal\n",
    "recommendations = recommend_meal(sample_meal, top_n=5)\n",
    "print(recommendations)\n"
   ]
  },
  {
   "cell_type": "code",
   "execution_count": 15,
   "id": "e70df974",
   "metadata": {
    "execution": {
     "iopub.execute_input": "2025-10-14T13:49:04.619070Z",
     "iopub.status.busy": "2025-10-14T13:49:04.618740Z",
     "iopub.status.idle": "2025-10-14T13:49:04.950838Z",
     "shell.execute_reply": "2025-10-14T13:49:04.949968Z"
    },
    "papermill": {
     "duration": 0.34121,
     "end_time": "2025-10-14T13:49:04.952175",
     "exception": false,
     "start_time": "2025-10-14T13:49:04.610965",
     "status": "completed"
    },
    "tags": []
   },
   "outputs": [
    {
     "name": "stderr",
     "output_type": "stream",
     "text": [
      "/tmp/ipykernel_13/3771634114.py:14: UserWarning: Glyph 127835 (\\N{CURRY AND RICE}) missing from current font.\n",
      "  plt.tight_layout()\n",
      "/usr/local/lib/python3.11/dist-packages/IPython/core/pylabtools.py:151: UserWarning: Glyph 127835 (\\N{CURRY AND RICE}) missing from current font.\n",
      "  fig.canvas.print_figure(bytes_io, **kw)\n"
     ]
    },
    {
     "data": {
      "image/png": "[encoded data removed]",
      "text/plain": [
       "<Figure size 1000x500 with 1 Axes>"
      ]
     },
     "metadata": {},
     "output_type": "display_data"
    }
   ],
   "source": [
    "def plot_meal_comparison(base_meal, rec_meals):\n",
    "    meals_to_plot = pd.concat([\n",
    "        df[df['meal_name'] == base_meal][['meal_name', 'Calories', 'Proteins', 'Carbs', 'Fats']],\n",
    "        rec_meals[['meal_name', 'Calories', 'Proteins', 'Carbs', 'Fats']]\n",
    "    ])\n",
    "    \n",
    "    meals_to_plot.set_index('meal_name', inplace=True)\n",
    "    meals_to_plot.T.plot(kind='bar', figsize=(10,5))\n",
    "    plt.title(f\"🍛 Nutritional Comparison for '{base_meal}' and Recommendations\")\n",
    "    plt.ylabel(\"Nutritional Values\")\n",
    "    plt.xlabel(\"Nutrients\")\n",
    "    plt.xticks(rotation=0)\n",
    "    plt.legend(title=\"Meals\", bbox_to_anchor=(1.05, 1), loc='upper left')\n",
    "    plt.tight_layout()\n",
    "    plt.show()\n",
    "\n",
    "# Visualize\n",
    "plot_meal_comparison(sample_meal, recommendations)\n"
   ]
  },
  {
   "cell_type": "markdown",
   "id": "06f68a53",
   "metadata": {
    "papermill": {
     "duration": 0.007805,
     "end_time": "2025-10-14T13:49:04.968379",
     "exception": false,
     "start_time": "2025-10-14T13:49:04.960574",
     "status": "completed"
    },
    "tags": []
   },
   "source": [
    "## Check after saving the model"
   ]
  },
  {
   "cell_type": "code",
   "execution_count": 16,
   "id": "1c4b3369",
   "metadata": {
    "execution": {
     "iopub.execute_input": "2025-10-14T13:49:04.985175Z",
     "iopub.status.busy": "2025-10-14T13:49:04.984851Z",
     "iopub.status.idle": "2025-10-14T13:49:05.028308Z",
     "shell.execute_reply": "2025-10-14T13:49:05.027294Z"
    },
    "papermill": {
     "duration": 0.053628,
     "end_time": "2025-10-14T13:49:05.029874",
     "exception": false,
     "start_time": "2025-10-14T13:49:04.976246",
     "status": "completed"
    },
    "tags": []
   },
   "outputs": [
    {
     "name": "stdout",
     "output_type": "stream",
     "text": [
      "✅ Model, Scaler, and Metadata saved successfully!\n",
      "✅ Model, Scaler, and Metadata saved successfully!\n"
     ]
    }
   ],
   "source": [
    "# Ensure proper meal names\n",
    "df['meal_name'] = (\n",
    "    df['cooking_method'].fillna('Unknown').astype(str) + \" \" +\n",
    "    df['diet_type'].fillna('Balanced').astype(str) + \" \" +\n",
    "    df['meal_type'].fillna('Meal').astype(str)\n",
    ").str.title()\n",
    "\n",
    "# Clean and deduplicate\n",
    "df = df.dropna(subset=['Calories', 'Proteins', 'Carbs', 'Fats'])\n",
    "df = df.drop_duplicates(subset=['meal_name'])\n",
    "\n",
    "# Feature selection\n",
    "features = ['Calories', 'Proteins', 'Carbs', 'Fats']\n",
    "\n",
    "# Scale nutritional values\n",
    "scaler = StandardScaler()\n",
    "X_scaled = scaler.fit_transform(df[features])\n",
    "\n",
    "# Compute cosine similarity matrix\n",
    "similarity_matrix = cosine_similarity(X_scaled)\n",
    "\n",
    "# ✅ Save everything for deployment\n",
    "joblib.dump(scaler, \"scaler_meal_recommender.pkl\")\n",
    "joblib.dump(similarity_matrix, \"meal_similarity_matrix.pkl\")\n",
    "df.to_csv(\"meal_metadata.csv\", index=False)\n",
    "\n",
    "print(\"✅ Model, Scaler, and Metadata saved successfully!\")\n",
    "\n",
    "# ✅ Save everything for deployment\n",
    "joblib.dump(scaler, \"scaler_meal_recommender.pkl\")\n",
    "joblib.dump(similarity_matrix, \"meal_similarity_matrix.pkl\")\n",
    "df.to_csv(\"meal_metadata.csv\", index=False)\n",
    "\n",
    "print(\"✅ Model, Scaler, and Metadata saved successfully!\")"
   ]
  },
  {
   "cell_type": "markdown",
   "id": "e5a33244",
   "metadata": {
    "papermill": {
     "duration": 0.007576,
     "end_time": "2025-10-14T13:49:05.045426",
     "exception": false,
     "start_time": "2025-10-14T13:49:05.037850",
     "status": "completed"
    },
    "tags": []
   },
   "source": [
    "## Call the model to use"
   ]
  },
  {
   "cell_type": "code",
   "execution_count": 17,
   "id": "09bca7cc",
   "metadata": {
    "execution": {
     "iopub.execute_input": "2025-10-14T13:49:05.062003Z",
     "iopub.status.busy": "2025-10-14T13:49:05.061703Z",
     "iopub.status.idle": "2025-10-14T13:49:05.079649Z",
     "shell.execute_reply": "2025-10-14T13:49:05.078508Z"
    },
    "papermill": {
     "duration": 0.027934,
     "end_time": "2025-10-14T13:49:05.081159",
     "exception": false,
     "start_time": "2025-10-14T13:49:05.053225",
     "status": "completed"
    },
    "tags": []
   },
   "outputs": [
    {
     "name": "stdout",
     "output_type": "stream",
     "text": [
      "                     meal_name  meal_type diet_type  Calories  Proteins  \\\n",
      "125            Raw Vegan Lunch      Lunch     Vegan    1791.0    107.75   \n",
      "76   Boiled Low-Carb Breakfast  Breakfast  Low-Carb    1231.0    124.84   \n",
      "134  Boiled Balanced Breakfast  Breakfast  Balanced    1595.0    114.79   \n",
      "59             Raw Vegan Snack      Snack     Vegan    1410.0    118.76   \n",
      "86      Roasted Low-Carb Snack      Snack  Low-Carb    1440.0    121.29   \n",
      "\n",
      "      Carbs   Fats cooking_method  \n",
      "125  269.88  71.92            Raw  \n",
      "76   312.49  83.15         Boiled  \n",
      "134  284.43  76.75         Boiled  \n",
      "59   295.15  79.09            Raw  \n",
      "86   302.12  80.75        Roasted  \n"
     ]
    }
   ],
   "source": [
    "# Load saved model components\n",
    "scaler = joblib.load(\"scaler_meal_recommender.pkl\")\n",
    "similarity_matrix = joblib.load(\"meal_similarity_matrix.pkl\")\n",
    "df = pd.read_csv(\"meal_metadata.csv\")\n",
    "\n",
    "def recommend_meal(meal_name, top_n=5):\n",
    "    if meal_name not in df['meal_name'].values:\n",
    "        return f\"Meal '{meal_name}' not found. Try another one.\"\n",
    "    \n",
    "    idx = df.index[df['meal_name'] == meal_name][0]\n",
    "    sim_scores = list(enumerate(similarity_matrix[idx]))\n",
    "    sim_scores = sorted(sim_scores, key=lambda x: x[1], reverse=True)\n",
    "    \n",
    "    top_meals = [i[0] for i in sim_scores[1:top_n+1]]\n",
    "    return df.iloc[top_meals][['meal_name', 'meal_type', 'diet_type', 'Calories', 'Proteins', 'Carbs', 'Fats', 'cooking_method']]\n",
    "\n",
    "# Example\n",
    "meal = df['meal_name'].iloc[0]\n",
    "print(recommend_meal(meal))\n"
   ]
  },
  {
   "cell_type": "code",
   "execution_count": null,
   "id": "401f1e77",
   "metadata": {
    "papermill": {
     "duration": 0.007364,
     "end_time": "2025-10-14T13:49:05.096346",
     "exception": false,
     "start_time": "2025-10-14T13:49:05.088982",
     "status": "completed"
    },
    "tags": []
   },
   "outputs": [],
   "source": []
  }
 ],
 "metadata": {
  "kaggle": {
   "accelerator": "none",
   "dataSources": [
    {
     "datasetId": 8436570,
     "sourceId": 13359713,
     "sourceType": "datasetVersion"
    }
   ],
   "dockerImageVersionId": 31153,
   "isGpuEnabled": false,
   "isInternetEnabled": true,
   "language": "python",
   "sourceType": "notebook"
  },
  "kernelspec": {
   "display_name": "Python 3",
   "language": "python",
   "name": "python3"
  },
  "language_info": {
   "codemirror_mode": {
    "name": "ipython",
    "version": 3
   },
   "file_extension": ".py",
   "mimetype": "text/x-python",
   "name": "python",
   "nbconvert_exporter": "python",
   "pygments_lexer": "ipython3",
   "version": "3.11.13"
  },
  "papermill": {
   "default_parameters": {},
   "duration": 10.418087,
   "end_time": "2025-10-14T13:49:05.724278",
   "environment_variables": {},
   "exception": null,
   "input_path": "__notebook__.ipynb",
   "output_path": "__notebook__.ipynb",
   "parameters": {},
   "start_time": "2025-10-14T13:48:55.306191",
   "version": "2.6.0"
  }
 },
 "nbformat": 4,
 "nbformat_minor": 5
}
